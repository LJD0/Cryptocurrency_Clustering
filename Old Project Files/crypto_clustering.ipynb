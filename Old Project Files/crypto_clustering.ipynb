{
 "cells": [
  {
   "cell_type": "markdown",
   "metadata": {},
   "source": [
    "# Clustering Crypto"
   ]
  },
  {
   "cell_type": "code",
   "execution_count": 155,
   "metadata": {},
   "outputs": [],
   "source": [
    "# Initial imports\n",
    "import pandas as pd\n",
    "import hvplot.pandas\n",
    "from path import Path\n",
    "import plotly.express as px\n",
    "from sklearn.preprocessing import StandardScaler, MinMaxScaler\n",
    "from sklearn.decomposition import PCA\n",
    "from sklearn.cluster import KMeans\n"
   ]
  },
  {
   "cell_type": "markdown",
   "metadata": {},
   "source": [
    "### Deliverable 1: Preprocessing the Data for PCA"
   ]
  },
  {
   "cell_type": "code",
   "execution_count": 156,
   "metadata": {},
   "outputs": [
    {
     "data": {
      "text/html": [
       "<div>\n",
       "<style scoped>\n",
       "    .dataframe tbody tr th:only-of-type {\n",
       "        vertical-align: middle;\n",
       "    }\n",
       "\n",
       "    .dataframe tbody tr th {\n",
       "        vertical-align: top;\n",
       "    }\n",
       "\n",
       "    .dataframe thead th {\n",
       "        text-align: right;\n",
       "    }\n",
       "</style>\n",
       "<table border=\"1\" class=\"dataframe\">\n",
       "  <thead>\n",
       "    <tr style=\"text-align: right;\">\n",
       "      <th></th>\n",
       "      <th>CoinName</th>\n",
       "      <th>Algorithm</th>\n",
       "      <th>IsTrading</th>\n",
       "      <th>ProofType</th>\n",
       "      <th>TotalCoinsMined</th>\n",
       "      <th>TotalCoinSupply</th>\n",
       "    </tr>\n",
       "  </thead>\n",
       "  <tbody>\n",
       "    <tr>\n",
       "      <th>42</th>\n",
       "      <td>42 Coin</td>\n",
       "      <td>Scrypt</td>\n",
       "      <td>True</td>\n",
       "      <td>PoW/PoS</td>\n",
       "      <td>4.199995e+01</td>\n",
       "      <td>42</td>\n",
       "    </tr>\n",
       "    <tr>\n",
       "      <th>365</th>\n",
       "      <td>365Coin</td>\n",
       "      <td>X11</td>\n",
       "      <td>True</td>\n",
       "      <td>PoW/PoS</td>\n",
       "      <td>NaN</td>\n",
       "      <td>2300000000</td>\n",
       "    </tr>\n",
       "    <tr>\n",
       "      <th>404</th>\n",
       "      <td>404Coin</td>\n",
       "      <td>Scrypt</td>\n",
       "      <td>True</td>\n",
       "      <td>PoW/PoS</td>\n",
       "      <td>1.055185e+09</td>\n",
       "      <td>532000000</td>\n",
       "    </tr>\n",
       "    <tr>\n",
       "      <th>611</th>\n",
       "      <td>SixEleven</td>\n",
       "      <td>SHA-256</td>\n",
       "      <td>True</td>\n",
       "      <td>PoW</td>\n",
       "      <td>NaN</td>\n",
       "      <td>611000</td>\n",
       "    </tr>\n",
       "    <tr>\n",
       "      <th>808</th>\n",
       "      <td>808</td>\n",
       "      <td>SHA-256</td>\n",
       "      <td>True</td>\n",
       "      <td>PoW/PoS</td>\n",
       "      <td>0.000000e+00</td>\n",
       "      <td>0</td>\n",
       "    </tr>\n",
       "    <tr>\n",
       "      <th>...</th>\n",
       "      <td>...</td>\n",
       "      <td>...</td>\n",
       "      <td>...</td>\n",
       "      <td>...</td>\n",
       "      <td>...</td>\n",
       "      <td>...</td>\n",
       "    </tr>\n",
       "    <tr>\n",
       "      <th>XBC</th>\n",
       "      <td>BitcoinPlus</td>\n",
       "      <td>Scrypt</td>\n",
       "      <td>True</td>\n",
       "      <td>PoS</td>\n",
       "      <td>1.283270e+05</td>\n",
       "      <td>1000000</td>\n",
       "    </tr>\n",
       "    <tr>\n",
       "      <th>DVTC</th>\n",
       "      <td>DivotyCoin</td>\n",
       "      <td>Scrypt</td>\n",
       "      <td>False</td>\n",
       "      <td>PoW/PoS</td>\n",
       "      <td>2.149121e+07</td>\n",
       "      <td>100000000</td>\n",
       "    </tr>\n",
       "    <tr>\n",
       "      <th>GIOT</th>\n",
       "      <td>Giotto Coin</td>\n",
       "      <td>Scrypt</td>\n",
       "      <td>False</td>\n",
       "      <td>PoW/PoS</td>\n",
       "      <td>NaN</td>\n",
       "      <td>233100000</td>\n",
       "    </tr>\n",
       "    <tr>\n",
       "      <th>OPSC</th>\n",
       "      <td>OpenSourceCoin</td>\n",
       "      <td>SHA-256</td>\n",
       "      <td>False</td>\n",
       "      <td>PoW/PoS</td>\n",
       "      <td>NaN</td>\n",
       "      <td>21000000</td>\n",
       "    </tr>\n",
       "    <tr>\n",
       "      <th>PUNK</th>\n",
       "      <td>SteamPunk</td>\n",
       "      <td>PoS</td>\n",
       "      <td>False</td>\n",
       "      <td>PoS</td>\n",
       "      <td>NaN</td>\n",
       "      <td>40000000</td>\n",
       "    </tr>\n",
       "  </tbody>\n",
       "</table>\n",
       "<p>1252 rows × 6 columns</p>\n",
       "</div>"
      ],
      "text/plain": [
       "            CoinName Algorithm  IsTrading ProofType  TotalCoinsMined  \\\n",
       "42           42 Coin    Scrypt       True   PoW/PoS     4.199995e+01   \n",
       "365          365Coin       X11       True   PoW/PoS              NaN   \n",
       "404          404Coin    Scrypt       True   PoW/PoS     1.055185e+09   \n",
       "611        SixEleven   SHA-256       True       PoW              NaN   \n",
       "808              808   SHA-256       True   PoW/PoS     0.000000e+00   \n",
       "...              ...       ...        ...       ...              ...   \n",
       "XBC      BitcoinPlus    Scrypt       True       PoS     1.283270e+05   \n",
       "DVTC      DivotyCoin    Scrypt      False   PoW/PoS     2.149121e+07   \n",
       "GIOT     Giotto Coin    Scrypt      False   PoW/PoS              NaN   \n",
       "OPSC  OpenSourceCoin   SHA-256      False   PoW/PoS              NaN   \n",
       "PUNK       SteamPunk       PoS      False       PoS              NaN   \n",
       "\n",
       "     TotalCoinSupply  \n",
       "42                42  \n",
       "365       2300000000  \n",
       "404        532000000  \n",
       "611           611000  \n",
       "808                0  \n",
       "...              ...  \n",
       "XBC          1000000  \n",
       "DVTC       100000000  \n",
       "GIOT       233100000  \n",
       "OPSC        21000000  \n",
       "PUNK        40000000  \n",
       "\n",
       "[1252 rows x 6 columns]"
      ]
     },
     "execution_count": 156,
     "metadata": {},
     "output_type": "execute_result"
    }
   ],
   "source": [
    "# Load the crypto_data.csv dataset.\n",
    "crypto_df = pd.read_csv('crypto_data.csv',index_col=0)\n",
    "crypto_df"
   ]
  },
  {
   "cell_type": "code",
   "execution_count": 157,
   "metadata": {},
   "outputs": [],
   "source": [
    "# Keep all the cryptocurrencies that are being traded.\n",
    "crypto_df = crypto_df[crypto_df['IsTrading']==True]"
   ]
  },
  {
   "cell_type": "code",
   "execution_count": 158,
   "metadata": {},
   "outputs": [],
   "source": [
    "# Remove the \"IsTrading\" column. \n",
    "crypto_df = crypto_df.drop(columns=['IsTrading'])"
   ]
  },
  {
   "cell_type": "code",
   "execution_count": 159,
   "metadata": {},
   "outputs": [],
   "source": [
    "# Remove rows that have at least 1 null value.\n",
    "\n",
    "crypto_df = crypto_df.dropna()"
   ]
  },
  {
   "cell_type": "code",
   "execution_count": 160,
   "metadata": {},
   "outputs": [],
   "source": [
    "# Keep the rows where coins are mined.\n",
    "\n",
    "crypto_df= crypto_df[crypto_df['TotalCoinsMined']>0]\n"
   ]
  },
  {
   "cell_type": "code",
   "execution_count": 161,
   "metadata": {},
   "outputs": [
    {
     "data": {
      "text/html": [
       "<div>\n",
       "<style scoped>\n",
       "    .dataframe tbody tr th:only-of-type {\n",
       "        vertical-align: middle;\n",
       "    }\n",
       "\n",
       "    .dataframe tbody tr th {\n",
       "        vertical-align: top;\n",
       "    }\n",
       "\n",
       "    .dataframe thead th {\n",
       "        text-align: right;\n",
       "    }\n",
       "</style>\n",
       "<table border=\"1\" class=\"dataframe\">\n",
       "  <thead>\n",
       "    <tr style=\"text-align: right;\">\n",
       "      <th></th>\n",
       "      <th>CoinName</th>\n",
       "    </tr>\n",
       "  </thead>\n",
       "  <tbody>\n",
       "    <tr>\n",
       "      <th>42</th>\n",
       "      <td>42 Coin</td>\n",
       "    </tr>\n",
       "    <tr>\n",
       "      <th>404</th>\n",
       "      <td>404Coin</td>\n",
       "    </tr>\n",
       "    <tr>\n",
       "      <th>1337</th>\n",
       "      <td>EliteCoin</td>\n",
       "    </tr>\n",
       "    <tr>\n",
       "      <th>BTC</th>\n",
       "      <td>Bitcoin</td>\n",
       "    </tr>\n",
       "    <tr>\n",
       "      <th>ETH</th>\n",
       "      <td>Ethereum</td>\n",
       "    </tr>\n",
       "    <tr>\n",
       "      <th>...</th>\n",
       "      <td>...</td>\n",
       "    </tr>\n",
       "    <tr>\n",
       "      <th>ZEPH</th>\n",
       "      <td>ZEPHYR</td>\n",
       "    </tr>\n",
       "    <tr>\n",
       "      <th>GAP</th>\n",
       "      <td>Gapcoin</td>\n",
       "    </tr>\n",
       "    <tr>\n",
       "      <th>BDX</th>\n",
       "      <td>Beldex</td>\n",
       "    </tr>\n",
       "    <tr>\n",
       "      <th>ZEN</th>\n",
       "      <td>Horizen</td>\n",
       "    </tr>\n",
       "    <tr>\n",
       "      <th>XBC</th>\n",
       "      <td>BitcoinPlus</td>\n",
       "    </tr>\n",
       "  </tbody>\n",
       "</table>\n",
       "<p>532 rows × 1 columns</p>\n",
       "</div>"
      ],
      "text/plain": [
       "         CoinName\n",
       "42        42 Coin\n",
       "404       404Coin\n",
       "1337    EliteCoin\n",
       "BTC       Bitcoin\n",
       "ETH      Ethereum\n",
       "...           ...\n",
       "ZEPH       ZEPHYR\n",
       "GAP       Gapcoin\n",
       "BDX        Beldex\n",
       "ZEN       Horizen\n",
       "XBC   BitcoinPlus\n",
       "\n",
       "[532 rows x 1 columns]"
      ]
     },
     "execution_count": 161,
     "metadata": {},
     "output_type": "execute_result"
    }
   ],
   "source": [
    "# Create a new DataFrame that holds only the cryptocurrencies names.\n",
    "crypto_name_df = crypto_df['CoinName'].to_frame()\n",
    "\n",
    "crypto_name_df"
   ]
  },
  {
   "cell_type": "code",
   "execution_count": 162,
   "metadata": {},
   "outputs": [
    {
     "data": {
      "text/html": [
       "<div>\n",
       "<style scoped>\n",
       "    .dataframe tbody tr th:only-of-type {\n",
       "        vertical-align: middle;\n",
       "    }\n",
       "\n",
       "    .dataframe tbody tr th {\n",
       "        vertical-align: top;\n",
       "    }\n",
       "\n",
       "    .dataframe thead th {\n",
       "        text-align: right;\n",
       "    }\n",
       "</style>\n",
       "<table border=\"1\" class=\"dataframe\">\n",
       "  <thead>\n",
       "    <tr style=\"text-align: right;\">\n",
       "      <th></th>\n",
       "      <th>Algorithm</th>\n",
       "      <th>ProofType</th>\n",
       "      <th>TotalCoinsMined</th>\n",
       "      <th>TotalCoinSupply</th>\n",
       "    </tr>\n",
       "  </thead>\n",
       "  <tbody>\n",
       "    <tr>\n",
       "      <th>42</th>\n",
       "      <td>Scrypt</td>\n",
       "      <td>PoW/PoS</td>\n",
       "      <td>4.199995e+01</td>\n",
       "      <td>42</td>\n",
       "    </tr>\n",
       "    <tr>\n",
       "      <th>404</th>\n",
       "      <td>Scrypt</td>\n",
       "      <td>PoW/PoS</td>\n",
       "      <td>1.055185e+09</td>\n",
       "      <td>532000000</td>\n",
       "    </tr>\n",
       "    <tr>\n",
       "      <th>1337</th>\n",
       "      <td>X13</td>\n",
       "      <td>PoW/PoS</td>\n",
       "      <td>2.927942e+10</td>\n",
       "      <td>314159265359</td>\n",
       "    </tr>\n",
       "    <tr>\n",
       "      <th>BTC</th>\n",
       "      <td>SHA-256</td>\n",
       "      <td>PoW</td>\n",
       "      <td>1.792718e+07</td>\n",
       "      <td>21000000</td>\n",
       "    </tr>\n",
       "    <tr>\n",
       "      <th>ETH</th>\n",
       "      <td>Ethash</td>\n",
       "      <td>PoW</td>\n",
       "      <td>1.076842e+08</td>\n",
       "      <td>0</td>\n",
       "    </tr>\n",
       "    <tr>\n",
       "      <th>...</th>\n",
       "      <td>...</td>\n",
       "      <td>...</td>\n",
       "      <td>...</td>\n",
       "      <td>...</td>\n",
       "    </tr>\n",
       "    <tr>\n",
       "      <th>ZEPH</th>\n",
       "      <td>SHA-256</td>\n",
       "      <td>DPoS</td>\n",
       "      <td>2.000000e+09</td>\n",
       "      <td>2000000000</td>\n",
       "    </tr>\n",
       "    <tr>\n",
       "      <th>GAP</th>\n",
       "      <td>Scrypt</td>\n",
       "      <td>PoW/PoS</td>\n",
       "      <td>1.493105e+07</td>\n",
       "      <td>250000000</td>\n",
       "    </tr>\n",
       "    <tr>\n",
       "      <th>BDX</th>\n",
       "      <td>CryptoNight</td>\n",
       "      <td>PoW</td>\n",
       "      <td>9.802226e+08</td>\n",
       "      <td>1400222610</td>\n",
       "    </tr>\n",
       "    <tr>\n",
       "      <th>ZEN</th>\n",
       "      <td>Equihash</td>\n",
       "      <td>PoW</td>\n",
       "      <td>7.296538e+06</td>\n",
       "      <td>21000000</td>\n",
       "    </tr>\n",
       "    <tr>\n",
       "      <th>XBC</th>\n",
       "      <td>Scrypt</td>\n",
       "      <td>PoS</td>\n",
       "      <td>1.283270e+05</td>\n",
       "      <td>1000000</td>\n",
       "    </tr>\n",
       "  </tbody>\n",
       "</table>\n",
       "<p>532 rows × 4 columns</p>\n",
       "</div>"
      ],
      "text/plain": [
       "        Algorithm ProofType  TotalCoinsMined TotalCoinSupply\n",
       "42         Scrypt   PoW/PoS     4.199995e+01              42\n",
       "404        Scrypt   PoW/PoS     1.055185e+09       532000000\n",
       "1337          X13   PoW/PoS     2.927942e+10    314159265359\n",
       "BTC       SHA-256       PoW     1.792718e+07        21000000\n",
       "ETH        Ethash       PoW     1.076842e+08               0\n",
       "...           ...       ...              ...             ...\n",
       "ZEPH      SHA-256      DPoS     2.000000e+09      2000000000\n",
       "GAP        Scrypt   PoW/PoS     1.493105e+07       250000000\n",
       "BDX   CryptoNight       PoW     9.802226e+08      1400222610\n",
       "ZEN      Equihash       PoW     7.296538e+06        21000000\n",
       "XBC        Scrypt       PoS     1.283270e+05         1000000\n",
       "\n",
       "[532 rows x 4 columns]"
      ]
     },
     "execution_count": 162,
     "metadata": {},
     "output_type": "execute_result"
    }
   ],
   "source": [
    "# Drop the 'CoinName' column since it's not going to be used on the clustering algorithm.\n",
    "crypto_df = crypto_df.drop(columns=['CoinName'])\n",
    "crypto_df"
   ]
  },
  {
   "cell_type": "code",
   "execution_count": 163,
   "metadata": {},
   "outputs": [
    {
     "data": {
      "text/html": [
       "<div>\n",
       "<style scoped>\n",
       "    .dataframe tbody tr th:only-of-type {\n",
       "        vertical-align: middle;\n",
       "    }\n",
       "\n",
       "    .dataframe tbody tr th {\n",
       "        vertical-align: top;\n",
       "    }\n",
       "\n",
       "    .dataframe thead th {\n",
       "        text-align: right;\n",
       "    }\n",
       "</style>\n",
       "<table border=\"1\" class=\"dataframe\">\n",
       "  <thead>\n",
       "    <tr style=\"text-align: right;\">\n",
       "      <th></th>\n",
       "      <th>TotalCoinsMined</th>\n",
       "      <th>TotalCoinSupply</th>\n",
       "      <th>Algorithm_1GB AES Pattern Search</th>\n",
       "      <th>Algorithm_536</th>\n",
       "      <th>Algorithm_Argon2d</th>\n",
       "      <th>Algorithm_BLAKE256</th>\n",
       "      <th>Algorithm_Blake</th>\n",
       "      <th>Algorithm_Blake2S</th>\n",
       "      <th>Algorithm_Blake2b</th>\n",
       "      <th>Algorithm_C11</th>\n",
       "      <th>...</th>\n",
       "      <th>ProofType_PoW/PoS</th>\n",
       "      <th>ProofType_PoW/PoS</th>\n",
       "      <th>ProofType_PoW/PoW</th>\n",
       "      <th>ProofType_PoW/nPoS</th>\n",
       "      <th>ProofType_Pos</th>\n",
       "      <th>ProofType_Proof of Authority</th>\n",
       "      <th>ProofType_Proof of Trust</th>\n",
       "      <th>ProofType_TPoS</th>\n",
       "      <th>ProofType_Zero-Knowledge Proof</th>\n",
       "      <th>ProofType_dPoW/PoW</th>\n",
       "    </tr>\n",
       "  </thead>\n",
       "  <tbody>\n",
       "    <tr>\n",
       "      <th>42</th>\n",
       "      <td>4.199995e+01</td>\n",
       "      <td>42</td>\n",
       "      <td>0</td>\n",
       "      <td>0</td>\n",
       "      <td>0</td>\n",
       "      <td>0</td>\n",
       "      <td>0</td>\n",
       "      <td>0</td>\n",
       "      <td>0</td>\n",
       "      <td>0</td>\n",
       "      <td>...</td>\n",
       "      <td>1</td>\n",
       "      <td>0</td>\n",
       "      <td>0</td>\n",
       "      <td>0</td>\n",
       "      <td>0</td>\n",
       "      <td>0</td>\n",
       "      <td>0</td>\n",
       "      <td>0</td>\n",
       "      <td>0</td>\n",
       "      <td>0</td>\n",
       "    </tr>\n",
       "    <tr>\n",
       "      <th>404</th>\n",
       "      <td>1.055185e+09</td>\n",
       "      <td>532000000</td>\n",
       "      <td>0</td>\n",
       "      <td>0</td>\n",
       "      <td>0</td>\n",
       "      <td>0</td>\n",
       "      <td>0</td>\n",
       "      <td>0</td>\n",
       "      <td>0</td>\n",
       "      <td>0</td>\n",
       "      <td>...</td>\n",
       "      <td>1</td>\n",
       "      <td>0</td>\n",
       "      <td>0</td>\n",
       "      <td>0</td>\n",
       "      <td>0</td>\n",
       "      <td>0</td>\n",
       "      <td>0</td>\n",
       "      <td>0</td>\n",
       "      <td>0</td>\n",
       "      <td>0</td>\n",
       "    </tr>\n",
       "    <tr>\n",
       "      <th>1337</th>\n",
       "      <td>2.927942e+10</td>\n",
       "      <td>314159265359</td>\n",
       "      <td>0</td>\n",
       "      <td>0</td>\n",
       "      <td>0</td>\n",
       "      <td>0</td>\n",
       "      <td>0</td>\n",
       "      <td>0</td>\n",
       "      <td>0</td>\n",
       "      <td>0</td>\n",
       "      <td>...</td>\n",
       "      <td>1</td>\n",
       "      <td>0</td>\n",
       "      <td>0</td>\n",
       "      <td>0</td>\n",
       "      <td>0</td>\n",
       "      <td>0</td>\n",
       "      <td>0</td>\n",
       "      <td>0</td>\n",
       "      <td>0</td>\n",
       "      <td>0</td>\n",
       "    </tr>\n",
       "    <tr>\n",
       "      <th>BTC</th>\n",
       "      <td>1.792718e+07</td>\n",
       "      <td>21000000</td>\n",
       "      <td>0</td>\n",
       "      <td>0</td>\n",
       "      <td>0</td>\n",
       "      <td>0</td>\n",
       "      <td>0</td>\n",
       "      <td>0</td>\n",
       "      <td>0</td>\n",
       "      <td>0</td>\n",
       "      <td>...</td>\n",
       "      <td>0</td>\n",
       "      <td>0</td>\n",
       "      <td>0</td>\n",
       "      <td>0</td>\n",
       "      <td>0</td>\n",
       "      <td>0</td>\n",
       "      <td>0</td>\n",
       "      <td>0</td>\n",
       "      <td>0</td>\n",
       "      <td>0</td>\n",
       "    </tr>\n",
       "    <tr>\n",
       "      <th>ETH</th>\n",
       "      <td>1.076842e+08</td>\n",
       "      <td>0</td>\n",
       "      <td>0</td>\n",
       "      <td>0</td>\n",
       "      <td>0</td>\n",
       "      <td>0</td>\n",
       "      <td>0</td>\n",
       "      <td>0</td>\n",
       "      <td>0</td>\n",
       "      <td>0</td>\n",
       "      <td>...</td>\n",
       "      <td>0</td>\n",
       "      <td>0</td>\n",
       "      <td>0</td>\n",
       "      <td>0</td>\n",
       "      <td>0</td>\n",
       "      <td>0</td>\n",
       "      <td>0</td>\n",
       "      <td>0</td>\n",
       "      <td>0</td>\n",
       "      <td>0</td>\n",
       "    </tr>\n",
       "    <tr>\n",
       "      <th>...</th>\n",
       "      <td>...</td>\n",
       "      <td>...</td>\n",
       "      <td>...</td>\n",
       "      <td>...</td>\n",
       "      <td>...</td>\n",
       "      <td>...</td>\n",
       "      <td>...</td>\n",
       "      <td>...</td>\n",
       "      <td>...</td>\n",
       "      <td>...</td>\n",
       "      <td>...</td>\n",
       "      <td>...</td>\n",
       "      <td>...</td>\n",
       "      <td>...</td>\n",
       "      <td>...</td>\n",
       "      <td>...</td>\n",
       "      <td>...</td>\n",
       "      <td>...</td>\n",
       "      <td>...</td>\n",
       "      <td>...</td>\n",
       "      <td>...</td>\n",
       "    </tr>\n",
       "    <tr>\n",
       "      <th>ZEPH</th>\n",
       "      <td>2.000000e+09</td>\n",
       "      <td>2000000000</td>\n",
       "      <td>0</td>\n",
       "      <td>0</td>\n",
       "      <td>0</td>\n",
       "      <td>0</td>\n",
       "      <td>0</td>\n",
       "      <td>0</td>\n",
       "      <td>0</td>\n",
       "      <td>0</td>\n",
       "      <td>...</td>\n",
       "      <td>0</td>\n",
       "      <td>0</td>\n",
       "      <td>0</td>\n",
       "      <td>0</td>\n",
       "      <td>0</td>\n",
       "      <td>0</td>\n",
       "      <td>0</td>\n",
       "      <td>0</td>\n",
       "      <td>0</td>\n",
       "      <td>0</td>\n",
       "    </tr>\n",
       "    <tr>\n",
       "      <th>GAP</th>\n",
       "      <td>1.493105e+07</td>\n",
       "      <td>250000000</td>\n",
       "      <td>0</td>\n",
       "      <td>0</td>\n",
       "      <td>0</td>\n",
       "      <td>0</td>\n",
       "      <td>0</td>\n",
       "      <td>0</td>\n",
       "      <td>0</td>\n",
       "      <td>0</td>\n",
       "      <td>...</td>\n",
       "      <td>1</td>\n",
       "      <td>0</td>\n",
       "      <td>0</td>\n",
       "      <td>0</td>\n",
       "      <td>0</td>\n",
       "      <td>0</td>\n",
       "      <td>0</td>\n",
       "      <td>0</td>\n",
       "      <td>0</td>\n",
       "      <td>0</td>\n",
       "    </tr>\n",
       "    <tr>\n",
       "      <th>BDX</th>\n",
       "      <td>9.802226e+08</td>\n",
       "      <td>1400222610</td>\n",
       "      <td>0</td>\n",
       "      <td>0</td>\n",
       "      <td>0</td>\n",
       "      <td>0</td>\n",
       "      <td>0</td>\n",
       "      <td>0</td>\n",
       "      <td>0</td>\n",
       "      <td>0</td>\n",
       "      <td>...</td>\n",
       "      <td>0</td>\n",
       "      <td>0</td>\n",
       "      <td>0</td>\n",
       "      <td>0</td>\n",
       "      <td>0</td>\n",
       "      <td>0</td>\n",
       "      <td>0</td>\n",
       "      <td>0</td>\n",
       "      <td>0</td>\n",
       "      <td>0</td>\n",
       "    </tr>\n",
       "    <tr>\n",
       "      <th>ZEN</th>\n",
       "      <td>7.296538e+06</td>\n",
       "      <td>21000000</td>\n",
       "      <td>0</td>\n",
       "      <td>0</td>\n",
       "      <td>0</td>\n",
       "      <td>0</td>\n",
       "      <td>0</td>\n",
       "      <td>0</td>\n",
       "      <td>0</td>\n",
       "      <td>0</td>\n",
       "      <td>...</td>\n",
       "      <td>0</td>\n",
       "      <td>0</td>\n",
       "      <td>0</td>\n",
       "      <td>0</td>\n",
       "      <td>0</td>\n",
       "      <td>0</td>\n",
       "      <td>0</td>\n",
       "      <td>0</td>\n",
       "      <td>0</td>\n",
       "      <td>0</td>\n",
       "    </tr>\n",
       "    <tr>\n",
       "      <th>XBC</th>\n",
       "      <td>1.283270e+05</td>\n",
       "      <td>1000000</td>\n",
       "      <td>0</td>\n",
       "      <td>0</td>\n",
       "      <td>0</td>\n",
       "      <td>0</td>\n",
       "      <td>0</td>\n",
       "      <td>0</td>\n",
       "      <td>0</td>\n",
       "      <td>0</td>\n",
       "      <td>...</td>\n",
       "      <td>0</td>\n",
       "      <td>0</td>\n",
       "      <td>0</td>\n",
       "      <td>0</td>\n",
       "      <td>0</td>\n",
       "      <td>0</td>\n",
       "      <td>0</td>\n",
       "      <td>0</td>\n",
       "      <td>0</td>\n",
       "      <td>0</td>\n",
       "    </tr>\n",
       "  </tbody>\n",
       "</table>\n",
       "<p>532 rows × 98 columns</p>\n",
       "</div>"
      ],
      "text/plain": [
       "      TotalCoinsMined TotalCoinSupply  Algorithm_1GB AES Pattern Search  \\\n",
       "42       4.199995e+01              42                                 0   \n",
       "404      1.055185e+09       532000000                                 0   \n",
       "1337     2.927942e+10    314159265359                                 0   \n",
       "BTC      1.792718e+07        21000000                                 0   \n",
       "ETH      1.076842e+08               0                                 0   \n",
       "...               ...             ...                               ...   \n",
       "ZEPH     2.000000e+09      2000000000                                 0   \n",
       "GAP      1.493105e+07       250000000                                 0   \n",
       "BDX      9.802226e+08      1400222610                                 0   \n",
       "ZEN      7.296538e+06        21000000                                 0   \n",
       "XBC      1.283270e+05         1000000                                 0   \n",
       "\n",
       "      Algorithm_536  Algorithm_Argon2d  Algorithm_BLAKE256  Algorithm_Blake  \\\n",
       "42                0                  0                   0                0   \n",
       "404               0                  0                   0                0   \n",
       "1337              0                  0                   0                0   \n",
       "BTC               0                  0                   0                0   \n",
       "ETH               0                  0                   0                0   \n",
       "...             ...                ...                 ...              ...   \n",
       "ZEPH              0                  0                   0                0   \n",
       "GAP               0                  0                   0                0   \n",
       "BDX               0                  0                   0                0   \n",
       "ZEN               0                  0                   0                0   \n",
       "XBC               0                  0                   0                0   \n",
       "\n",
       "      Algorithm_Blake2S  Algorithm_Blake2b  Algorithm_C11  ...  \\\n",
       "42                    0                  0              0  ...   \n",
       "404                   0                  0              0  ...   \n",
       "1337                  0                  0              0  ...   \n",
       "BTC                   0                  0              0  ...   \n",
       "ETH                   0                  0              0  ...   \n",
       "...                 ...                ...            ...  ...   \n",
       "ZEPH                  0                  0              0  ...   \n",
       "GAP                   0                  0              0  ...   \n",
       "BDX                   0                  0              0  ...   \n",
       "ZEN                   0                  0              0  ...   \n",
       "XBC                   0                  0              0  ...   \n",
       "\n",
       "      ProofType_PoW/PoS  ProofType_PoW/PoS   ProofType_PoW/PoW  \\\n",
       "42                    1                   0                  0   \n",
       "404                   1                   0                  0   \n",
       "1337                  1                   0                  0   \n",
       "BTC                   0                   0                  0   \n",
       "ETH                   0                   0                  0   \n",
       "...                 ...                 ...                ...   \n",
       "ZEPH                  0                   0                  0   \n",
       "GAP                   1                   0                  0   \n",
       "BDX                   0                   0                  0   \n",
       "ZEN                   0                   0                  0   \n",
       "XBC                   0                   0                  0   \n",
       "\n",
       "      ProofType_PoW/nPoS  ProofType_Pos  ProofType_Proof of Authority  \\\n",
       "42                     0              0                             0   \n",
       "404                    0              0                             0   \n",
       "1337                   0              0                             0   \n",
       "BTC                    0              0                             0   \n",
       "ETH                    0              0                             0   \n",
       "...                  ...            ...                           ...   \n",
       "ZEPH                   0              0                             0   \n",
       "GAP                    0              0                             0   \n",
       "BDX                    0              0                             0   \n",
       "ZEN                    0              0                             0   \n",
       "XBC                    0              0                             0   \n",
       "\n",
       "      ProofType_Proof of Trust  ProofType_TPoS  \\\n",
       "42                           0               0   \n",
       "404                          0               0   \n",
       "1337                         0               0   \n",
       "BTC                          0               0   \n",
       "ETH                          0               0   \n",
       "...                        ...             ...   \n",
       "ZEPH                         0               0   \n",
       "GAP                          0               0   \n",
       "BDX                          0               0   \n",
       "ZEN                          0               0   \n",
       "XBC                          0               0   \n",
       "\n",
       "      ProofType_Zero-Knowledge Proof  ProofType_dPoW/PoW  \n",
       "42                                 0                   0  \n",
       "404                                0                   0  \n",
       "1337                               0                   0  \n",
       "BTC                                0                   0  \n",
       "ETH                                0                   0  \n",
       "...                              ...                 ...  \n",
       "ZEPH                               0                   0  \n",
       "GAP                                0                   0  \n",
       "BDX                                0                   0  \n",
       "ZEN                                0                   0  \n",
       "XBC                                0                   0  \n",
       "\n",
       "[532 rows x 98 columns]"
      ]
     },
     "execution_count": 163,
     "metadata": {},
     "output_type": "execute_result"
    }
   ],
   "source": [
    "# Use get_dummies() to create variables for text features.\n",
    "X = pd.get_dummies(crypto_df[['Algorithm', 'ProofType']])\n",
    "X = crypto_df[['TotalCoinsMined','TotalCoinSupply']].join(X)\n",
    "X"
   ]
  },
  {
   "cell_type": "code",
   "execution_count": 164,
   "metadata": {},
   "outputs": [],
   "source": [
    "# Standardize the data with StandardScaler().\n",
    "X_scaled = StandardScaler().fit_transform(X)"
   ]
  },
  {
   "cell_type": "code",
   "execution_count": 165,
   "metadata": {},
   "outputs": [
    {
     "data": {
      "text/plain": [
       "array([[-0.11710817, -0.1528703 , -0.0433963 , ..., -0.0433963 ,\n",
       "        -0.0433963 , -0.0433963 ],\n",
       "       [-0.09396955, -0.145009  , -0.0433963 , ..., -0.0433963 ,\n",
       "        -0.0433963 , -0.0433963 ],\n",
       "       [ 0.52494561,  4.48942416, -0.0433963 , ..., -0.0433963 ,\n",
       "        -0.0433963 , -0.0433963 ],\n",
       "       ...,\n",
       "       [-0.09561336, -0.13217937, -0.0433963 , ..., -0.0433963 ,\n",
       "        -0.0433963 , -0.0433963 ],\n",
       "       [-0.11694817, -0.15255998, -0.0433963 , ..., -0.0433963 ,\n",
       "        -0.0433963 , -0.0433963 ],\n",
       "       [-0.11710536, -0.15285552, -0.0433963 , ..., -0.0433963 ,\n",
       "        -0.0433963 , -0.0433963 ]])"
      ]
     },
     "execution_count": 165,
     "metadata": {},
     "output_type": "execute_result"
    }
   ],
   "source": [
    "X_scaled"
   ]
  },
  {
   "cell_type": "markdown",
   "metadata": {},
   "source": [
    "### Deliverable 2: Reducing Data Dimensions Using PCA"
   ]
  },
  {
   "cell_type": "code",
   "execution_count": 166,
   "metadata": {},
   "outputs": [],
   "source": [
    "# Using PCA to reduce dimension to three principal components.\n",
    "pca = PCA(n_components=3)\n",
    "crypto_pca = pca.fit_transform(X_scaled)"
   ]
  },
  {
   "cell_type": "code",
   "execution_count": 167,
   "metadata": {},
   "outputs": [
    {
     "data": {
      "text/html": [
       "<div>\n",
       "<style scoped>\n",
       "    .dataframe tbody tr th:only-of-type {\n",
       "        vertical-align: middle;\n",
       "    }\n",
       "\n",
       "    .dataframe tbody tr th {\n",
       "        vertical-align: top;\n",
       "    }\n",
       "\n",
       "    .dataframe thead th {\n",
       "        text-align: right;\n",
       "    }\n",
       "</style>\n",
       "<table border=\"1\" class=\"dataframe\">\n",
       "  <thead>\n",
       "    <tr style=\"text-align: right;\">\n",
       "      <th></th>\n",
       "      <th>PC 1</th>\n",
       "      <th>PC 2</th>\n",
       "      <th>PC 3</th>\n",
       "    </tr>\n",
       "  </thead>\n",
       "  <tbody>\n",
       "    <tr>\n",
       "      <th>42</th>\n",
       "      <td>-0.309791</td>\n",
       "      <td>1.092447</td>\n",
       "      <td>-0.428064</td>\n",
       "    </tr>\n",
       "    <tr>\n",
       "      <th>404</th>\n",
       "      <td>-0.293015</td>\n",
       "      <td>1.092827</td>\n",
       "      <td>-0.428052</td>\n",
       "    </tr>\n",
       "    <tr>\n",
       "      <th>1337</th>\n",
       "      <td>2.293608</td>\n",
       "      <td>1.703303</td>\n",
       "      <td>-0.529703</td>\n",
       "    </tr>\n",
       "    <tr>\n",
       "      <th>BTC</th>\n",
       "      <td>-0.165301</td>\n",
       "      <td>-1.341114</td>\n",
       "      <td>0.161799</td>\n",
       "    </tr>\n",
       "    <tr>\n",
       "      <th>ETH</th>\n",
       "      <td>-0.140103</td>\n",
       "      <td>-2.029137</td>\n",
       "      <td>0.296862</td>\n",
       "    </tr>\n",
       "    <tr>\n",
       "      <th>...</th>\n",
       "      <td>...</td>\n",
       "      <td>...</td>\n",
       "      <td>...</td>\n",
       "    </tr>\n",
       "    <tr>\n",
       "      <th>ZEPH</th>\n",
       "      <td>2.373630</td>\n",
       "      <td>0.688873</td>\n",
       "      <td>0.079640</td>\n",
       "    </tr>\n",
       "    <tr>\n",
       "      <th>GAP</th>\n",
       "      <td>-0.307825</td>\n",
       "      <td>1.092352</td>\n",
       "      <td>-0.428057</td>\n",
       "    </tr>\n",
       "    <tr>\n",
       "      <th>BDX</th>\n",
       "      <td>0.300707</td>\n",
       "      <td>-2.363656</td>\n",
       "      <td>0.321599</td>\n",
       "    </tr>\n",
       "    <tr>\n",
       "      <th>ZEN</th>\n",
       "      <td>-0.112227</td>\n",
       "      <td>-2.047353</td>\n",
       "      <td>0.284675</td>\n",
       "    </tr>\n",
       "    <tr>\n",
       "      <th>XBC</th>\n",
       "      <td>-0.277448</td>\n",
       "      <td>0.835091</td>\n",
       "      <td>-0.165154</td>\n",
       "    </tr>\n",
       "  </tbody>\n",
       "</table>\n",
       "<p>532 rows × 3 columns</p>\n",
       "</div>"
      ],
      "text/plain": [
       "          PC 1      PC 2      PC 3\n",
       "42   -0.309791  1.092447 -0.428064\n",
       "404  -0.293015  1.092827 -0.428052\n",
       "1337  2.293608  1.703303 -0.529703\n",
       "BTC  -0.165301 -1.341114  0.161799\n",
       "ETH  -0.140103 -2.029137  0.296862\n",
       "...        ...       ...       ...\n",
       "ZEPH  2.373630  0.688873  0.079640\n",
       "GAP  -0.307825  1.092352 -0.428057\n",
       "BDX   0.300707 -2.363656  0.321599\n",
       "ZEN  -0.112227 -2.047353  0.284675\n",
       "XBC  -0.277448  0.835091 -0.165154\n",
       "\n",
       "[532 rows x 3 columns]"
      ]
     },
     "execution_count": 167,
     "metadata": {},
     "output_type": "execute_result"
    }
   ],
   "source": [
    "# Create a DataFrame with the three principal components.\n",
    "pcs_df = pd.DataFrame(crypto_pca,columns=['PC 1','PC 2','PC 3'],index=crypto_name_df.index)\n",
    "pcs_df"
   ]
  },
  {
   "cell_type": "markdown",
   "metadata": {},
   "source": [
    "### Deliverable 3: Clustering Crytocurrencies Using K-Means\n",
    "\n",
    "#### Finding the Best Value for `k` Using the Elbow Curve"
   ]
  },
  {
   "cell_type": "code",
   "execution_count": 168,
   "metadata": {},
   "outputs": [
    {
     "data": {},
     "metadata": {},
     "output_type": "display_data"
    },
    {
     "data": {
      "application/vnd.holoviews_exec.v0+json": "",
      "text/html": [
       "<div id='4546'>\n",
       "  <div class=\"bk-root\" id=\"b0ae7abb-5716-4a24-8eb8-c5d94183a0ea\" data-root-id=\"4546\"></div>\n",
       "</div>\n",
       "<script type=\"application/javascript\">(function(root) {\n",
       "  function embed_document(root) {\n",
       "    var docs_json = {\"119b9106-e02d-4249-b977-47007c1a6799\":{\"defs\":[{\"extends\":null,\"module\":null,\"name\":\"ReactiveHTML1\",\"overrides\":[],\"properties\":[]},{\"extends\":null,\"module\":null,\"name\":\"FlexBox1\",\"overrides\":[],\"properties\":[{\"default\":\"flex-start\",\"kind\":null,\"name\":\"align_content\"},{\"default\":\"flex-start\",\"kind\":null,\"name\":\"align_items\"},{\"default\":\"row\",\"kind\":null,\"name\":\"flex_direction\"},{\"default\":\"wrap\",\"kind\":null,\"name\":\"flex_wrap\"},{\"default\":\"flex-start\",\"kind\":null,\"name\":\"justify_content\"}]},{\"extends\":null,\"module\":null,\"name\":\"GridStack1\",\"overrides\":[],\"properties\":[{\"default\":\"warn\",\"kind\":null,\"name\":\"mode\"},{\"default\":null,\"kind\":null,\"name\":\"ncols\"},{\"default\":null,\"kind\":null,\"name\":\"nrows\"},{\"default\":true,\"kind\":null,\"name\":\"allow_resize\"},{\"default\":true,\"kind\":null,\"name\":\"allow_drag\"},{\"default\":[],\"kind\":null,\"name\":\"state\"}]},{\"extends\":null,\"module\":null,\"name\":\"click1\",\"overrides\":[],\"properties\":[{\"default\":\"\",\"kind\":null,\"name\":\"terminal_output\"},{\"default\":\"\",\"kind\":null,\"name\":\"debug_name\"},{\"default\":0,\"kind\":null,\"name\":\"clears\"}]},{\"extends\":null,\"module\":null,\"name\":\"NotificationAreaBase1\",\"overrides\":[],\"properties\":[{\"default\":\"bottom-right\",\"kind\":null,\"name\":\"position\"},{\"default\":0,\"kind\":null,\"name\":\"_clear\"}]},{\"extends\":null,\"module\":null,\"name\":\"NotificationArea1\",\"overrides\":[],\"properties\":[{\"default\":[],\"kind\":null,\"name\":\"notifications\"},{\"default\":\"bottom-right\",\"kind\":null,\"name\":\"position\"},{\"default\":0,\"kind\":null,\"name\":\"_clear\"},{\"default\":[{\"background\":\"#ffc107\",\"icon\":{\"className\":\"fas fa-exclamation-triangle\",\"color\":\"white\",\"tagName\":\"i\"},\"type\":\"warning\"},{\"background\":\"#007bff\",\"icon\":{\"className\":\"fas fa-info-circle\",\"color\":\"white\",\"tagName\":\"i\"},\"type\":\"info\"}],\"kind\":null,\"name\":\"types\"}]},{\"extends\":null,\"module\":null,\"name\":\"Notification\",\"overrides\":[],\"properties\":[{\"default\":null,\"kind\":null,\"name\":\"background\"},{\"default\":3000,\"kind\":null,\"name\":\"duration\"},{\"default\":null,\"kind\":null,\"name\":\"icon\"},{\"default\":\"\",\"kind\":null,\"name\":\"message\"},{\"default\":null,\"kind\":null,\"name\":\"notification_type\"},{\"default\":false,\"kind\":null,\"name\":\"_destroyed\"}]},{\"extends\":null,\"module\":null,\"name\":\"TemplateActions1\",\"overrides\":[],\"properties\":[{\"default\":0,\"kind\":null,\"name\":\"open_modal\"},{\"default\":0,\"kind\":null,\"name\":\"close_modal\"}]},{\"extends\":null,\"module\":null,\"name\":\"MaterialTemplateActions1\",\"overrides\":[],\"properties\":[{\"default\":0,\"kind\":null,\"name\":\"open_modal\"},{\"default\":0,\"kind\":null,\"name\":\"close_modal\"}]}],\"roots\":{\"references\":[{\"attributes\":{},\"id\":\"4556\",\"type\":\"LinearScale\"},{\"attributes\":{\"coordinates\":null,\"group\":null,\"text\":\"Elbow Curve\",\"text_color\":\"black\",\"text_font_size\":\"12pt\"},\"id\":\"4552\",\"type\":\"Title\"},{\"attributes\":{\"margin\":[5,5,5,5],\"name\":\"HSpacer04963\",\"sizing_mode\":\"stretch_width\"},\"id\":\"4547\",\"type\":\"Spacer\"},{\"attributes\":{},\"id\":\"4572\",\"type\":\"ResetTool\"},{\"attributes\":{\"axis\":{\"id\":\"4564\"},\"coordinates\":null,\"dimension\":1,\"grid_line_color\":null,\"group\":null,\"ticker\":null},\"id\":\"4567\",\"type\":\"Grid\"},{\"attributes\":{},\"id\":\"4558\",\"type\":\"LinearScale\"},{\"attributes\":{},\"id\":\"4598\",\"type\":\"AllLabels\"},{\"attributes\":{\"bottom_units\":\"screen\",\"coordinates\":null,\"fill_alpha\":0.5,\"fill_color\":\"lightgrey\",\"group\":null,\"left_units\":\"screen\",\"level\":\"overlay\",\"line_alpha\":1.0,\"line_color\":\"black\",\"line_dash\":[4,4],\"line_width\":2,\"right_units\":\"screen\",\"syncable\":false,\"top_units\":\"screen\"},\"id\":\"4573\",\"type\":\"BoxAnnotation\"},{\"attributes\":{\"data\":{\"inertia\":{\"__ndarray__\":\"Iz3dwtxurEDFISi9Fz+jQA4dZ3DrCZdAyFXNeZPrg0BkhETys4J8QNSOow3xx3FAYDC1zyWRa0DaYXTFO1RnQHRiXUBr0GFAyU+fxm4DXUA=\",\"dtype\":\"float64\",\"order\":\"little\",\"shape\":[10]},\"k\":[1,2,3,4,5,6,7,8,9,10]},\"selected\":{\"id\":\"4582\"},\"selection_policy\":{\"id\":\"4605\"}},\"id\":\"4581\",\"type\":\"ColumnDataSource\"},{\"attributes\":{\"line_color\":\"#30a2da\",\"line_width\":2,\"x\":{\"field\":\"k\"},\"y\":{\"field\":\"inertia\"}},\"id\":\"4589\",\"type\":\"Line\"},{\"attributes\":{\"axis_label\":\"k\",\"coordinates\":null,\"formatter\":{\"id\":\"4592\"},\"group\":null,\"major_label_policy\":{\"id\":\"4593\"},\"ticker\":{\"id\":\"4590\"}},\"id\":\"4560\",\"type\":\"LinearAxis\"},{\"attributes\":{},\"id\":\"4597\",\"type\":\"BasicTickFormatter\"},{\"attributes\":{\"ticks\":[1,2,3,4,5,6,7,8,9,10]},\"id\":\"4590\",\"type\":\"FixedTicker\"},{\"attributes\":{\"axis\":{\"id\":\"4560\"},\"coordinates\":null,\"grid_line_color\":null,\"group\":null,\"ticker\":null},\"id\":\"4563\",\"type\":\"Grid\"},{\"attributes\":{\"end\":10.0,\"reset_end\":10.0,\"reset_start\":1.0,\"start\":1.0,\"tags\":[[[\"k\",\"k\",null]]]},\"id\":\"4548\",\"type\":\"Range1d\"},{\"attributes\":{},\"id\":\"4592\",\"type\":\"BasicTickFormatter\"},{\"attributes\":{},\"id\":\"4605\",\"type\":\"UnionRenderers\"},{\"attributes\":{},\"id\":\"4565\",\"type\":\"BasicTicker\"},{\"attributes\":{\"axis_label\":\"inertia\",\"coordinates\":null,\"formatter\":{\"id\":\"4597\"},\"group\":null,\"major_label_policy\":{\"id\":\"4598\"},\"ticker\":{\"id\":\"4565\"}},\"id\":\"4564\",\"type\":\"LinearAxis\"},{\"attributes\":{\"callback\":null,\"renderers\":[{\"id\":\"4587\"}],\"tags\":[\"hv_created\"],\"tooltips\":[[\"k\",\"@{k}\"],[\"inertia\",\"@{inertia}\"]]},\"id\":\"4550\",\"type\":\"HoverTool\"},{\"attributes\":{\"margin\":[5,5,5,5],\"name\":\"HSpacer04964\",\"sizing_mode\":\"stretch_width\"},\"id\":\"4608\",\"type\":\"Spacer\"},{\"attributes\":{\"source\":{\"id\":\"4581\"}},\"id\":\"4588\",\"type\":\"CDSView\"},{\"attributes\":{\"coordinates\":null,\"data_source\":{\"id\":\"4581\"},\"glyph\":{\"id\":\"4584\"},\"group\":null,\"hover_glyph\":null,\"muted_glyph\":{\"id\":\"4586\"},\"nonselection_glyph\":{\"id\":\"4585\"},\"selection_glyph\":{\"id\":\"4589\"},\"view\":{\"id\":\"4588\"}},\"id\":\"4587\",\"type\":\"GlyphRenderer\"},{\"attributes\":{\"end\":3991.768927993323,\"reset_end\":3991.768927993323,\"reset_start\":-236.28411757491665,\"start\":-236.28411757491665,\"tags\":[[[\"inertia\",\"inertia\",null]]]},\"id\":\"4549\",\"type\":\"Range1d\"},{\"attributes\":{\"line_alpha\":0.1,\"line_color\":\"#30a2da\",\"line_width\":2,\"x\":{\"field\":\"k\"},\"y\":{\"field\":\"inertia\"}},\"id\":\"4585\",\"type\":\"Line\"},{\"attributes\":{},\"id\":\"4593\",\"type\":\"AllLabels\"},{\"attributes\":{\"line_color\":\"#30a2da\",\"line_width\":2,\"x\":{\"field\":\"k\"},\"y\":{\"field\":\"inertia\"}},\"id\":\"4584\",\"type\":\"Line\"},{\"attributes\":{},\"id\":\"4582\",\"type\":\"Selection\"},{\"attributes\":{\"tools\":[{\"id\":\"4550\"},{\"id\":\"4568\"},{\"id\":\"4569\"},{\"id\":\"4570\"},{\"id\":\"4571\"},{\"id\":\"4572\"}]},\"id\":\"4574\",\"type\":\"Toolbar\"},{\"attributes\":{},\"id\":\"4568\",\"type\":\"SaveTool\"},{\"attributes\":{\"children\":[{\"id\":\"4547\"},{\"id\":\"4551\"},{\"id\":\"4608\"}],\"margin\":[0,0,0,0],\"name\":\"Row04959\",\"tags\":[\"embedded\"]},\"id\":\"4546\",\"type\":\"Row\"},{\"attributes\":{\"below\":[{\"id\":\"4560\"}],\"center\":[{\"id\":\"4563\"},{\"id\":\"4567\"}],\"height\":300,\"left\":[{\"id\":\"4564\"}],\"margin\":[5,5,5,5],\"min_border_bottom\":10,\"min_border_left\":10,\"min_border_right\":10,\"min_border_top\":10,\"renderers\":[{\"id\":\"4587\"}],\"sizing_mode\":\"fixed\",\"title\":{\"id\":\"4552\"},\"toolbar\":{\"id\":\"4574\"},\"width\":700,\"x_range\":{\"id\":\"4548\"},\"x_scale\":{\"id\":\"4556\"},\"y_range\":{\"id\":\"4549\"},\"y_scale\":{\"id\":\"4558\"}},\"id\":\"4551\",\"subtype\":\"Figure\",\"type\":\"Plot\"},{\"attributes\":{},\"id\":\"4569\",\"type\":\"PanTool\"},{\"attributes\":{\"line_alpha\":0.2,\"line_color\":\"#30a2da\",\"line_width\":2,\"x\":{\"field\":\"k\"},\"y\":{\"field\":\"inertia\"}},\"id\":\"4586\",\"type\":\"Line\"},{\"attributes\":{},\"id\":\"4570\",\"type\":\"WheelZoomTool\"},{\"attributes\":{\"overlay\":{\"id\":\"4573\"}},\"id\":\"4571\",\"type\":\"BoxZoomTool\"}],\"root_ids\":[\"4546\"]},\"title\":\"Bokeh Application\",\"version\":\"2.4.3\"}};\n",
       "    var render_items = [{\"docid\":\"119b9106-e02d-4249-b977-47007c1a6799\",\"root_ids\":[\"4546\"],\"roots\":{\"4546\":\"b0ae7abb-5716-4a24-8eb8-c5d94183a0ea\"}}];\n",
       "    root.Bokeh.embed.embed_items_notebook(docs_json, render_items);\n",
       "  }\n",
       "  if (root.Bokeh !== undefined && root.Bokeh.Panel !== undefined) {\n",
       "    embed_document(root);\n",
       "  } else {\n",
       "    var attempts = 0;\n",
       "    var timer = setInterval(function(root) {\n",
       "      if (root.Bokeh !== undefined && root.Bokeh.Panel !== undefined) {\n",
       "        clearInterval(timer);\n",
       "        embed_document(root);\n",
       "      } else if (document.readyState == \"complete\") {\n",
       "        attempts++;\n",
       "        if (attempts > 200) {\n",
       "          clearInterval(timer);\n",
       "          console.log(\"Bokeh: ERROR: Unable to run BokehJS code because BokehJS library is missing\");\n",
       "        }\n",
       "      }\n",
       "    }, 25, root)\n",
       "  }\n",
       "})(window);</script>"
      ],
      "text/plain": [
       ":Curve   [k]   (inertia)"
      ]
     },
     "execution_count": 168,
     "metadata": {
      "application/vnd.holoviews_exec.v0+json": {
       "id": "4546"
      }
     },
     "output_type": "execute_result"
    }
   ],
   "source": [
    "# Create an elbow curve to find the best value for K.\n",
    "\n",
    "# Find the best value for K\n",
    "inertia = []\n",
    "k = list(range(1, 11))\n",
    "\n",
    "# Calculate the inertia for the range of K values\n",
    "for i in k:\n",
    "    km = KMeans(n_clusters=i, random_state=0)\n",
    "    km.fit(pcs_df)\n",
    "    inertia.append(km.inertia_)\n",
    "\n",
    "# Create the elbow curve\n",
    "elbow_data = {\"k\": k, \"inertia\": inertia}\n",
    "df_elbow = pd.DataFrame(elbow_data)\n",
    "df_elbow.hvplot.line(x=\"k\", y=\"inertia\", xticks=k, title=\"Elbow Curve\")\n"
   ]
  },
  {
   "cell_type": "markdown",
   "metadata": {},
   "source": [
    "Running K-Means with `k=4`"
   ]
  },
  {
   "cell_type": "code",
   "execution_count": 169,
   "metadata": {},
   "outputs": [],
   "source": [
    "# Initialize the K-Means model.\n",
    "km_model = KMeans(n_clusters=4)\n",
    "\n",
    "# Fit the model\n",
    "\n",
    "km_model.fit(pcs_df)\n",
    "# Predict clusters\n",
    "\n",
    "predictions = km_model.predict(pcs_df)"
   ]
  },
  {
   "cell_type": "code",
   "execution_count": 170,
   "metadata": {},
   "outputs": [
    {
     "name": "stdout",
     "output_type": "stream",
     "text": [
      "(532, 9)\n"
     ]
    },
    {
     "data": {
      "text/html": [
       "<div>\n",
       "<style scoped>\n",
       "    .dataframe tbody tr th:only-of-type {\n",
       "        vertical-align: middle;\n",
       "    }\n",
       "\n",
       "    .dataframe tbody tr th {\n",
       "        vertical-align: top;\n",
       "    }\n",
       "\n",
       "    .dataframe thead th {\n",
       "        text-align: right;\n",
       "    }\n",
       "</style>\n",
       "<table border=\"1\" class=\"dataframe\">\n",
       "  <thead>\n",
       "    <tr style=\"text-align: right;\">\n",
       "      <th></th>\n",
       "      <th>Algorithm</th>\n",
       "      <th>ProofType</th>\n",
       "      <th>TotalCoinsMined</th>\n",
       "      <th>TotalCoinSupply</th>\n",
       "      <th>PC 1</th>\n",
       "      <th>PC 2</th>\n",
       "      <th>PC 3</th>\n",
       "      <th>CoinName</th>\n",
       "      <th>Class</th>\n",
       "    </tr>\n",
       "  </thead>\n",
       "  <tbody>\n",
       "    <tr>\n",
       "      <th>42</th>\n",
       "      <td>Scrypt</td>\n",
       "      <td>PoW/PoS</td>\n",
       "      <td>4.199995e+01</td>\n",
       "      <td>42</td>\n",
       "      <td>-0.309791</td>\n",
       "      <td>1.092447</td>\n",
       "      <td>-0.428064</td>\n",
       "      <td>42 Coin</td>\n",
       "      <td>1</td>\n",
       "    </tr>\n",
       "    <tr>\n",
       "      <th>404</th>\n",
       "      <td>Scrypt</td>\n",
       "      <td>PoW/PoS</td>\n",
       "      <td>1.055185e+09</td>\n",
       "      <td>532000000</td>\n",
       "      <td>-0.293015</td>\n",
       "      <td>1.092827</td>\n",
       "      <td>-0.428052</td>\n",
       "      <td>404Coin</td>\n",
       "      <td>1</td>\n",
       "    </tr>\n",
       "    <tr>\n",
       "      <th>1337</th>\n",
       "      <td>X13</td>\n",
       "      <td>PoW/PoS</td>\n",
       "      <td>2.927942e+10</td>\n",
       "      <td>314159265359</td>\n",
       "      <td>2.293608</td>\n",
       "      <td>1.703303</td>\n",
       "      <td>-0.529703</td>\n",
       "      <td>EliteCoin</td>\n",
       "      <td>1</td>\n",
       "    </tr>\n",
       "    <tr>\n",
       "      <th>BTC</th>\n",
       "      <td>SHA-256</td>\n",
       "      <td>PoW</td>\n",
       "      <td>1.792718e+07</td>\n",
       "      <td>21000000</td>\n",
       "      <td>-0.165301</td>\n",
       "      <td>-1.341114</td>\n",
       "      <td>0.161799</td>\n",
       "      <td>Bitcoin</td>\n",
       "      <td>0</td>\n",
       "    </tr>\n",
       "    <tr>\n",
       "      <th>ETH</th>\n",
       "      <td>Ethash</td>\n",
       "      <td>PoW</td>\n",
       "      <td>1.076842e+08</td>\n",
       "      <td>0</td>\n",
       "      <td>-0.140103</td>\n",
       "      <td>-2.029137</td>\n",
       "      <td>0.296862</td>\n",
       "      <td>Ethereum</td>\n",
       "      <td>0</td>\n",
       "    </tr>\n",
       "    <tr>\n",
       "      <th>LTC</th>\n",
       "      <td>Scrypt</td>\n",
       "      <td>PoW</td>\n",
       "      <td>6.303924e+07</td>\n",
       "      <td>84000000</td>\n",
       "      <td>-0.140407</td>\n",
       "      <td>-1.089258</td>\n",
       "      <td>0.026104</td>\n",
       "      <td>Litecoin</td>\n",
       "      <td>0</td>\n",
       "    </tr>\n",
       "    <tr>\n",
       "      <th>DASH</th>\n",
       "      <td>X11</td>\n",
       "      <td>PoW/PoS</td>\n",
       "      <td>9.031294e+06</td>\n",
       "      <td>22000000</td>\n",
       "      <td>-0.400358</td>\n",
       "      <td>1.232906</td>\n",
       "      <td>-0.469838</td>\n",
       "      <td>Dash</td>\n",
       "      <td>1</td>\n",
       "    </tr>\n",
       "    <tr>\n",
       "      <th>XMR</th>\n",
       "      <td>CryptoNight-V7</td>\n",
       "      <td>PoW</td>\n",
       "      <td>1.720114e+07</td>\n",
       "      <td>0</td>\n",
       "      <td>-0.176674</td>\n",
       "      <td>-2.242463</td>\n",
       "      <td>0.293177</td>\n",
       "      <td>Monero</td>\n",
       "      <td>0</td>\n",
       "    </tr>\n",
       "    <tr>\n",
       "      <th>ETC</th>\n",
       "      <td>Ethash</td>\n",
       "      <td>PoW</td>\n",
       "      <td>1.133597e+08</td>\n",
       "      <td>210000000</td>\n",
       "      <td>-0.138536</td>\n",
       "      <td>-2.029220</td>\n",
       "      <td>0.296868</td>\n",
       "      <td>Ethereum Classic</td>\n",
       "      <td>0</td>\n",
       "    </tr>\n",
       "    <tr>\n",
       "      <th>ZEC</th>\n",
       "      <td>Equihash</td>\n",
       "      <td>PoW</td>\n",
       "      <td>7.383056e+06</td>\n",
       "      <td>21000000</td>\n",
       "      <td>-0.112226</td>\n",
       "      <td>-2.047353</td>\n",
       "      <td>0.284675</td>\n",
       "      <td>ZCash</td>\n",
       "      <td>0</td>\n",
       "    </tr>\n",
       "  </tbody>\n",
       "</table>\n",
       "</div>"
      ],
      "text/plain": [
       "           Algorithm ProofType  TotalCoinsMined TotalCoinSupply      PC 1  \\\n",
       "42            Scrypt   PoW/PoS     4.199995e+01              42 -0.309791   \n",
       "404           Scrypt   PoW/PoS     1.055185e+09       532000000 -0.293015   \n",
       "1337             X13   PoW/PoS     2.927942e+10    314159265359  2.293608   \n",
       "BTC          SHA-256       PoW     1.792718e+07        21000000 -0.165301   \n",
       "ETH           Ethash       PoW     1.076842e+08               0 -0.140103   \n",
       "LTC           Scrypt       PoW     6.303924e+07        84000000 -0.140407   \n",
       "DASH             X11   PoW/PoS     9.031294e+06        22000000 -0.400358   \n",
       "XMR   CryptoNight-V7       PoW     1.720114e+07               0 -0.176674   \n",
       "ETC           Ethash       PoW     1.133597e+08       210000000 -0.138536   \n",
       "ZEC         Equihash       PoW     7.383056e+06        21000000 -0.112226   \n",
       "\n",
       "          PC 2      PC 3          CoinName  Class  \n",
       "42    1.092447 -0.428064           42 Coin      1  \n",
       "404   1.092827 -0.428052           404Coin      1  \n",
       "1337  1.703303 -0.529703         EliteCoin      1  \n",
       "BTC  -1.341114  0.161799           Bitcoin      0  \n",
       "ETH  -2.029137  0.296862          Ethereum      0  \n",
       "LTC  -1.089258  0.026104          Litecoin      0  \n",
       "DASH  1.232906 -0.469838              Dash      1  \n",
       "XMR  -2.242463  0.293177            Monero      0  \n",
       "ETC  -2.029220  0.296868  Ethereum Classic      0  \n",
       "ZEC  -2.047353  0.284675             ZCash      0  "
      ]
     },
     "execution_count": 170,
     "metadata": {},
     "output_type": "execute_result"
    }
   ],
   "source": [
    "# Create a new DataFrame including predicted clusters and cryptocurrencies features.\n",
    "# Concatentate the crypto_df and pcs_df DataFrames on the same columns.\n",
    "\n",
    "cluster_df = crypto_df.join(pcs_df)\n",
    "\n",
    "#  Add a new column, \"CoinName\" to the clustered_df DataFrame that holds the names of the cryptocurrencies. \n",
    "\n",
    "cluster_df = cluster_df.join(crypto_name_df)\n",
    "\n",
    "#  Add a new column, \"Class\" to the clustered_df DataFrame that holds the predictions.\n",
    "cluster_df['Class'] = predictions\n",
    "\n",
    "# Print the shape of the clustered_df\n",
    "print(cluster_df.shape)\n",
    "cluster_df.head(10)"
   ]
  },
  {
   "cell_type": "markdown",
   "metadata": {},
   "source": [
    "### Deliverable 4: Visualizing Cryptocurrencies Results\n",
    "\n",
    "#### 3D-Scatter with Clusters"
   ]
  },
  {
   "cell_type": "code",
   "execution_count": 171,
   "metadata": {},
   "outputs": [
    {
     "data": {
      "application/vnd.plotly.v1+json": {
       "config": {
        "plotlyServerURL": "https://plot.ly"
       },
       "data": [
        {
         "customdata": [
          [
           "Scrypt"
          ],
          [
           "Scrypt"
          ],
          [
           "X13"
          ],
          [
           "X11"
          ],
          [
           "SHA-512"
          ],
          [
           "SHA-256"
          ],
          [
           "SHA-256"
          ],
          [
           "X15"
          ],
          [
           "Scrypt"
          ],
          [
           "Scrypt"
          ],
          [
           "Scrypt"
          ],
          [
           "Scrypt"
          ],
          [
           "Scrypt"
          ],
          [
           "Scrypt"
          ],
          [
           "Groestl"
          ],
          [
           "PoS"
          ],
          [
           "Scrypt"
          ],
          [
           "Scrypt"
          ],
          [
           "X11"
          ],
          [
           "X11"
          ],
          [
           "SHA3"
          ],
          [
           "Scrypt"
          ],
          [
           "SHA-256"
          ],
          [
           "Scrypt"
          ],
          [
           "X13"
          ],
          [
           "X13"
          ],
          [
           "NeoScrypt"
          ],
          [
           "Scrypt"
          ],
          [
           "Scrypt"
          ],
          [
           "Scrypt"
          ],
          [
           "X11"
          ],
          [
           "X11"
          ],
          [
           "Multiple"
          ],
          [
           "PHI1612"
          ],
          [
           "X11"
          ],
          [
           "Scrypt"
          ],
          [
           "Scrypt"
          ],
          [
           "Scrypt"
          ],
          [
           "X11"
          ],
          [
           "Multiple"
          ],
          [
           "X13"
          ],
          [
           "Scrypt"
          ],
          [
           "Shabal256"
          ],
          [
           "Counterparty"
          ],
          [
           "SHA-256"
          ],
          [
           "Groestl"
          ],
          [
           "Scrypt"
          ],
          [
           "X13"
          ],
          [
           "Scrypt"
          ],
          [
           "Scrypt"
          ],
          [
           "X13"
          ],
          [
           "X11"
          ],
          [
           "Scrypt"
          ],
          [
           "X11"
          ],
          [
           "SHA3"
          ],
          [
           "QUAIT"
          ],
          [
           "X11"
          ],
          [
           "Scrypt"
          ],
          [
           "X13"
          ],
          [
           "SHA-256"
          ],
          [
           "X15"
          ],
          [
           "BLAKE256"
          ],
          [
           "SHA-256"
          ],
          [
           "X11"
          ],
          [
           "SHA-256"
          ],
          [
           "NIST5"
          ],
          [
           "Scrypt"
          ],
          [
           "Scrypt"
          ],
          [
           "X11"
          ],
          [
           "Scrypt"
          ],
          [
           "SHA-256"
          ],
          [
           "Scrypt"
          ],
          [
           "PoS"
          ],
          [
           "X11"
          ],
          [
           "SHA-256"
          ],
          [
           "SHA-256"
          ],
          [
           "NIST5"
          ],
          [
           "X11"
          ],
          [
           "POS 3.0"
          ],
          [
           "Scrypt"
          ],
          [
           "Scrypt"
          ],
          [
           "Scrypt"
          ],
          [
           "X13"
          ],
          [
           "X11"
          ],
          [
           "X11"
          ],
          [
           "Scrypt"
          ],
          [
           "SHA-256"
          ],
          [
           "X11"
          ],
          [
           "Scrypt"
          ],
          [
           "Scrypt"
          ],
          [
           "Scrypt"
          ],
          [
           "Scrypt"
          ],
          [
           "SHA-256D"
          ],
          [
           "PoS"
          ],
          [
           "Scrypt"
          ],
          [
           "X11"
          ],
          [
           "PoS"
          ],
          [
           "X13"
          ],
          [
           "X14"
          ],
          [
           "PoS"
          ],
          [
           "SHA-256D"
          ],
          [
           "DPoS"
          ],
          [
           "X11"
          ],
          [
           "X13"
          ],
          [
           "X11"
          ],
          [
           "PoS"
          ],
          [
           "Scrypt"
          ],
          [
           "Scrypt"
          ],
          [
           "PoS"
          ],
          [
           "X11"
          ],
          [
           "SHA-256"
          ],
          [
           "Scrypt"
          ],
          [
           "X11"
          ],
          [
           "Scrypt"
          ],
          [
           "Scrypt"
          ],
          [
           "X11"
          ],
          [
           "Scrypt"
          ],
          [
           "Scrypt"
          ],
          [
           "Scrypt"
          ],
          [
           "Scrypt"
          ],
          [
           "Quark"
          ],
          [
           "QuBit"
          ],
          [
           "Scrypt"
          ],
          [
           "SHA-256"
          ],
          [
           "X11"
          ],
          [
           "Scrypt"
          ],
          [
           "Scrypt"
          ],
          [
           "Scrypt"
          ],
          [
           "Scrypt"
          ],
          [
           "X13"
          ],
          [
           "Scrypt"
          ],
          [
           "Scrypt"
          ],
          [
           "X11"
          ],
          [
           "Blake2S"
          ],
          [
           "X11"
          ],
          [
           "PoS"
          ],
          [
           "X11"
          ],
          [
           "PoS"
          ],
          [
           "X11"
          ],
          [
           "Scrypt"
          ],
          [
           "Scrypt"
          ],
          [
           "Scrypt"
          ],
          [
           "SHA-256"
          ],
          [
           "X11"
          ],
          [
           "Scrypt"
          ],
          [
           "PoS"
          ],
          [
           "Scrypt"
          ],
          [
           "X15"
          ],
          [
           "SHA-256"
          ],
          [
           "POS 3.0"
          ],
          [
           "536"
          ],
          [
           "NIST5"
          ],
          [
           "NIST5"
          ],
          [
           "Skein"
          ],
          [
           "X13"
          ],
          [
           "Scrypt"
          ],
          [
           "X13"
          ],
          [
           "SkunkHash v2 Raptor"
          ],
          [
           "Skein"
          ],
          [
           "X11"
          ],
          [
           "Scrypt"
          ],
          [
           "VeChainThor Authority"
          ],
          [
           "PoS"
          ],
          [
           "Scrypt"
          ],
          [
           "Scrypt"
          ],
          [
           "SHA-512"
          ],
          [
           "Ouroboros"
          ],
          [
           "X11"
          ],
          [
           "NeoScrypt"
          ],
          [
           "Scrypt"
          ],
          [
           "Lyra2REv2"
          ],
          [
           "Scrypt"
          ],
          [
           "SHA-256"
          ],
          [
           "NIST5"
          ],
          [
           "PHI1612"
          ],
          [
           "Scrypt"
          ],
          [
           "Quark"
          ],
          [
           "POS 2.0"
          ],
          [
           "Scrypt"
          ],
          [
           "SHA-256"
          ],
          [
           "X11"
          ],
          [
           "DPoS"
          ],
          [
           "NIST5"
          ],
          [
           "X13"
          ],
          [
           "Scrypt"
          ],
          [
           "NIST5"
          ],
          [
           "Quark"
          ],
          [
           "Scrypt"
          ],
          [
           "Scrypt"
          ],
          [
           "X11"
          ],
          [
           "Quark"
          ],
          [
           "Scrypt"
          ],
          [
           "Scrypt"
          ],
          [
           "X11"
          ],
          [
           "POS 3.0"
          ],
          [
           "Ethash"
          ],
          [
           "Scrypt"
          ],
          [
           "Scrypt"
          ],
          [
           "X13"
          ],
          [
           "C11"
          ],
          [
           "X11"
          ],
          [
           "XEVAN"
          ],
          [
           "Scrypt"
          ],
          [
           "VBFT"
          ],
          [
           "NIST5"
          ],
          [
           "Scrypt"
          ],
          [
           "Scrypt"
          ],
          [
           "Scrypt"
          ],
          [
           "Green Protocol"
          ],
          [
           "PoS"
          ],
          [
           "Scrypt"
          ],
          [
           "Semux BFT consensus"
          ],
          [
           "Quark"
          ],
          [
           "PoS"
          ],
          [
           "X16R"
          ],
          [
           "Scrypt"
          ],
          [
           "XEVAN"
          ],
          [
           "Scrypt"
          ],
          [
           "Scrypt"
          ],
          [
           "Scrypt"
          ],
          [
           "SHA-256D"
          ],
          [
           "Scrypt"
          ],
          [
           "X15"
          ],
          [
           "Scrypt"
          ],
          [
           "Quark"
          ],
          [
           "SHA-256"
          ],
          [
           "DPoS"
          ],
          [
           "X16R"
          ],
          [
           "Quark"
          ],
          [
           "Quark"
          ],
          [
           "Scrypt"
          ],
          [
           "Lyra2REv2"
          ],
          [
           "Quark"
          ],
          [
           "Scrypt"
          ],
          [
           "X11"
          ],
          [
           "X11"
          ],
          [
           "Scrypt"
          ],
          [
           "PoS"
          ],
          [
           "Keccak"
          ],
          [
           "X11"
          ],
          [
           "Scrypt"
          ],
          [
           "SHA-512"
          ],
          [
           "XEVAN"
          ],
          [
           "XEVAN"
          ],
          [
           "X11"
          ],
          [
           "Quark"
          ],
          [
           "Equihash"
          ],
          [
           "Scrypt"
          ],
          [
           "Quark"
          ],
          [
           "Quark"
          ],
          [
           "Scrypt"
          ],
          [
           "X11"
          ],
          [
           "Scrypt"
          ],
          [
           "XEVAN"
          ],
          [
           "SHA-256D"
          ],
          [
           "X11"
          ],
          [
           "X11"
          ],
          [
           "DPoS"
          ],
          [
           "Scrypt"
          ],
          [
           "X11"
          ],
          [
           "Scrypt"
          ],
          [
           "Scrypt"
          ],
          [
           "SHA-256"
          ],
          [
           "Scrypt"
          ],
          [
           "X11"
          ],
          [
           "Scrypt"
          ],
          [
           "SHA-256"
          ],
          [
           "X11"
          ],
          [
           "Scrypt"
          ],
          [
           "Scrypt"
          ],
          [
           "X11"
          ],
          [
           "Scrypt"
          ],
          [
           "PoS"
          ],
          [
           "X11"
          ],
          [
           "SHA-256"
          ],
          [
           "DPoS"
          ],
          [
           "Scrypt"
          ],
          [
           "Scrypt"
          ],
          [
           "NeoScrypt"
          ],
          [
           "X13"
          ],
          [
           "DPoS"
          ],
          [
           "DPoS"
          ],
          [
           "SHA-256"
          ],
          [
           "Leased POS"
          ],
          [
           "PoS"
          ],
          [
           "PoS"
          ],
          [
           "SHA-256"
          ],
          [
           "Scrypt"
          ],
          [
           "Scrypt"
          ]
         ],
         "hovertemplate": "<b>%{hovertext}</b><br><br>Class=%{marker.color}<br>PC 1=%{x}<br>PC 2=%{y}<br>PC 3=%{z}<br>Algorithm=%{customdata[0]}<extra></extra>",
         "hovertext": [
          "42 Coin",
          "404Coin",
          "EliteCoin",
          "Dash",
          "Bitshares",
          "BitcoinDark",
          "PayCoin",
          "KoboCoin",
          "Aurora Coin",
          "BlueCoin",
          "EnergyCoin",
          "BitBar",
          "CryptoBullion",
          "CasinoCoin",
          "Diamond",
          "Exclusive Coin",
          "FlutterCoin",
          "HoboNickels",
          "HyperStake",
          "IOCoin",
          "MaxCoin",
          "MintCoin",
          "MazaCoin",
          "Nautilus Coin",
          "NavCoin",
          "OpalCoin",
          "Orbitcoin",
          "PotCoin",
          "PhoenixCoin",
          "Reddcoin",
          "SuperCoin",
          "SyncCoin",
          "TeslaCoin",
          "TittieCoin",
          "TorCoin",
          "UnitaryStatus Dollar",
          "UltraCoin",
          "VeriCoin",
          "X11 Coin",
          "Crypti",
          "StealthCoin",
          "ZCC Coin",
          "BurstCoin",
          "StorjCoin",
          "Neutron",
          "FairCoin",
          "RubyCoin",
          "Kore",
          "Dnotes",
          "8BIT Coin",
          "Sativa Coin",
          "Ucoin",
          "Vtorrent",
          "IslaCoin",
          "Nexus",
          "Droidz",
          "Squall Coin",
          "Diggits",
          "Paycon",
          "Emercoin",
          "EverGreenCoin",
          "Decred",
          "EDRCoin",
          "Hitcoin",
          "DubaiCoin",
          "PWR Coin",
          "BillaryCoin",
          "GPU Coin",
          "EuropeCoin",
          "ZeitCoin",
          "SwingCoin",
          "SafeExchangeCoin",
          "Nebuchadnezzar",
          "Ratecoin",
          "Revenu",
          "Clockcoin",
          "VIP Tokens",
          "BitSend",
          "Let it Ride",
          "PutinCoin",
          "iBankCoin",
          "Frankywillcoin",
          "MudraCoin",
          "Lutetium Coin",
          "GoldBlocks",
          "CarterCoin",
          "BitTokens",
          "MustangCoin",
          "ZoneCoin",
          "RootCoin",
          "BitCurrency",
          "Swiscoin",
          "BuzzCoin",
          "Opair",
          "PesoBit",
          "Halloween Coin",
          "CoffeeCoin",
          "RoyalCoin",
          "GanjaCoin V2",
          "TeamUP",
          "LanaCoin",
          "ARK",
          "InsaneCoin",
          "EmberCoin",
          "XenixCoin",
          "FreeCoin",
          "PLNCoin",
          "AquariusCoin",
          "Creatio",
          "Eternity",
          "Eurocoin",
          "BitcoinFast",
          "Stakenet",
          "BitConnect Coin",
          "MoneyCoin",
          "Enigma",
          "Russiacoin",
          "PandaCoin",
          "GameUnits",
          "GAKHcoin",
          "Allsafe",
          "LiteCreed",
          "Klingon Empire Darsek",
          "Internet of People",
          "KushCoin",
          "Printerium",
          "Impeach",
          "Zilbercoin",
          "FirstCoin",
          "FindCoin",
          "OpenChat",
          "RenosCoin",
          "VirtacoinPlus",
          "TajCoin",
          "Impact",
          "Atmos",
          "HappyCoin",
          "MacronCoin",
          "Condensate",
          "Independent Money System",
          "ArgusCoin",
          "LomoCoin",
          "ProCurrency",
          "GoldReserve",
          "GrowthCoin",
          "Phreak",
          "Degas Coin",
          "HTML5 Coin",
          "Ultimate Secure Cash",
          "QTUM",
          "Espers",
          "Denarius",
          "Virta Unique Coin",
          "Bitcoin Planet",
          "BritCoin",
          "Linda",
          "DeepOnion",
          "Signatum",
          "Cream",
          "Monoeci",
          "Draftcoin",
          "Vechain",
          "Stakecoin",
          "CoinonatX",
          "Ethereum Dark",
          "Obsidian",
          "Cardano",
          "Regalcoin",
          "TrezarCoin",
          "TerraNovaCoin",
          "Rupee",
          "WomenCoin",
          "Theresa May Coin",
          "NamoCoin",
          "LUXCoin",
          "Xios",
          "Bitcloud 2.0",
          "KekCoin",
          "BlackholeCoin",
          "Infinity Economics",
          "Magnet",
          "Lamden Tau",
          "Electra",
          "Bitcoin Diamond",
          "Cash & Back Coin",
          "Bulwark",
          "Kalkulus",
          "GermanCoin",
          "LiteCoin Ultra",
          "PhantomX",
          "Digiwage",
          "Trollcoin",
          "Litecoin Plus",
          "Monkey Project",
          "TokenPay",
          "1717 Masonic Commemorative Token",
          "My Big Coin",
          "Unified Society USDEX",
          "Tokyo Coin",
          "Stipend",
          "Pushi",
          "Ellerium",
          "Velox",
          "Ontology",
          "Bitspace",
          "Briacoin",
          "Ignition",
          "MedicCoin",
          "Bitcoin Green",
          "Deviant Coin",
          "Abjcoin",
          "Semux",
          "Carebit",
          "Zealium",
          "Proton",
          "iDealCash",
          "Bitcoin Incognito",
          "HollyWoodCoin",
          "Swisscoin",
          "Xt3ch",
          "TheVig",
          "EmaratCoin",
          "Dekado",
          "Lynx",
          "Poseidon Quark",
          "BitcoinWSpectrum",
          "Muse",
          "Trivechain",
          "Dystem",
          "Giant",
          "Peony Coin",
          "Absolute Coin",
          "Vitae",
          "TPCash",
          "ARENON",
          "EUNO",
          "MMOCoin",
          "Ketan",
          "XDNA",
          "PAXEX",
          "ThunderStake",
          "Kcash",
          "Bettex coin",
          "BitMoney",
          "Junson Ming Chan Coin",
          "HerbCoin",
          "PirateCash",
          "Oduwa",
          "Galilel",
          "Crypto Sports",
          "Credit",
          "Dash Platinum",
          "Nasdacoin",
          "Beetle Coin",
          "Titan Coin",
          "Award",
          "Insane Coin",
          "ALAX",
          "LiteDoge",
          "TruckCoin",
          "OrangeCoin",
          "BitstarCoin",
          "NeosCoin",
          "HyperCoin",
          "PinkCoin",
          "AudioCoin",
          "IncaKoin",
          "Piggy Coin",
          "Genstake",
          "XiaoMiCoin",
          "CapriCoin",
          " ClubCoin",
          "Radium",
          "Creditbit ",
          "OKCash",
          "Lisk",
          "HiCoin",
          "WhiteCoin",
          "FriendshipCoin",
          "Triangles Coin",
          "EOS",
          "Oxycoin",
          "TigerCash",
          "Waves",
          "Particl",
          "Nxt",
          "ZEPHYR",
          "Gapcoin",
          "BitcoinPlus"
         ],
         "legendgroup": "1",
         "marker": {
          "color": [
           1,
           1,
           1,
           1,
           1,
           1,
           1,
           1,
           1,
           1,
           1,
           1,
           1,
           1,
           1,
           1,
           1,
           1,
           1,
           1,
           1,
           1,
           1,
           1,
           1,
           1,
           1,
           1,
           1,
           1,
           1,
           1,
           1,
           1,
           1,
           1,
           1,
           1,
           1,
           1,
           1,
           1,
           1,
           1,
           1,
           1,
           1,
           1,
           1,
           1,
           1,
           1,
           1,
           1,
           1,
           1,
           1,
           1,
           1,
           1,
           1,
           1,
           1,
           1,
           1,
           1,
           1,
           1,
           1,
           1,
           1,
           1,
           1,
           1,
           1,
           1,
           1,
           1,
           1,
           1,
           1,
           1,
           1,
           1,
           1,
           1,
           1,
           1,
           1,
           1,
           1,
           1,
           1,
           1,
           1,
           1,
           1,
           1,
           1,
           1,
           1,
           1,
           1,
           1,
           1,
           1,
           1,
           1,
           1,
           1,
           1,
           1,
           1,
           1,
           1,
           1,
           1,
           1,
           1,
           1,
           1,
           1,
           1,
           1,
           1,
           1,
           1,
           1,
           1,
           1,
           1,
           1,
           1,
           1,
           1,
           1,
           1,
           1,
           1,
           1,
           1,
           1,
           1,
           1,
           1,
           1,
           1,
           1,
           1,
           1,
           1,
           1,
           1,
           1,
           1,
           1,
           1,
           1,
           1,
           1,
           1,
           1,
           1,
           1,
           1,
           1,
           1,
           1,
           1,
           1,
           1,
           1,
           1,
           1,
           1,
           1,
           1,
           1,
           1,
           1,
           1,
           1,
           1,
           1,
           1,
           1,
           1,
           1,
           1,
           1,
           1,
           1,
           1,
           1,
           1,
           1,
           1,
           1,
           1,
           1,
           1,
           1,
           1,
           1,
           1,
           1,
           1,
           1,
           1,
           1,
           1,
           1,
           1,
           1,
           1,
           1,
           1,
           1,
           1,
           1,
           1,
           1,
           1,
           1,
           1,
           1,
           1,
           1,
           1,
           1,
           1,
           1,
           1,
           1,
           1,
           1,
           1,
           1,
           1,
           1,
           1,
           1,
           1,
           1,
           1,
           1,
           1,
           1,
           1,
           1,
           1,
           1,
           1,
           1,
           1,
           1,
           1,
           1,
           1,
           1,
           1,
           1,
           1,
           1,
           1,
           1,
           1,
           1,
           1,
           1,
           1,
           1,
           1,
           1,
           1,
           1,
           1,
           1,
           1,
           1,
           1,
           1,
           1,
           1,
           1,
           1,
           1,
           1,
           1
          ],
          "coloraxis": "coloraxis",
          "symbol": "circle"
         },
         "mode": "markers",
         "name": "1",
         "scene": "scene",
         "showlegend": true,
         "type": "scatter3d",
         "x": [
          -0.30979068878654353,
          -0.293014517697395,
          2.2936080714205023,
          -0.40035775799485934,
          -0.18976715173811906,
          -0.3335070820272105,
          -0.30110902892064717,
          -0.27845842050687836,
          -0.3094480187988358,
          -0.3019714255197821,
          -0.30827632959703105,
          -0.30978660219524445,
          -0.3097707757783404,
          0.7412087938516762,
          -0.41299353914663384,
          -0.3988258180986363,
          -0.11766203721436733,
          -0.30783698150299,
          -0.34763650074344093,
          -0.40025168851598597,
          -0.20172761754835497,
          -0.015422428404090645,
          -0.296579175352784,
          -0.27714226315067875,
          -0.3048558396515284,
          -0.30548257220358277,
          -0.35913585653092484,
          -0.30405722434138605,
          -0.3081821426815061,
          0.050954572632176974,
          -0.3676676882074146,
          -0.4006256632111559,
          -0.29757961353923734,
          -0.3490428919463432,
          -0.4005367962145738,
          -0.28486441845171767,
          -0.30845982744065703,
          -0.23779120354057323,
          -0.400500952902883,
          -0.2980493953592893,
          -0.305261842446253,
          -0.3008426988450989,
          0.10192709365740606,
          -0.35298237367491253,
          -0.33271369015718316,
          -0.41241083724485716,
          -0.27712215942004575,
          -0.3055586699377185,
          -0.27174411557791806,
          -0.3097726269575797,
          -0.3055104806151494,
          -0.36811603835484547,
          -0.3095053490063498,
          -0.40060705780545286,
          0.10276033443123213,
          -0.4313130250923787,
          -0.3733656916189064,
          -0.2755134334307486,
          -0.3050291831947783,
          -0.32602297361862814,
          -0.28091322156910725,
          -0.08262592362556245,
          -0.33347778451842286,
          -0.07609076533996309,
          -0.3335417858687886,
          -0.22834934299865572,
          -0.30938062565648444,
          -0.2753831703016158,
          -0.39776089379841384,
          0.8830575980181476,
          -0.3333407957599682,
          0.0056409004511527115,
          -0.39850706078247483,
          -0.3984353909865027,
          -0.33207768680105587,
          -0.3297330737929352,
          -0.3505914983415915,
          -0.39933494267888525,
          -0.38132213999274933,
          -0.28553134307363043,
          -0.3094190320069089,
          -0.30784744250185936,
          -0.2718481663555185,
          -0.35552454229803976,
          -0.4000778180280119,
          -0.30861809322626577,
          -0.3335227420113294,
          -0.40059621156842523,
          -0.3096092523820503,
          -0.3097668181298477,
          -0.2753696700074365,
          -0.17195755349431993,
          0.025874693287257836,
          -0.39745729133556096,
          -0.309378169938867,
          -0.38667833501272475,
          -0.39678058785166603,
          -0.2732864875051896,
          -0.4797910002246783,
          -0.39653124877230256,
          -0.2907681134341302,
          3.5455252250047273,
          -0.4001861592202582,
          0.8348755719789943,
          -0.40055080516083424,
          -0.3979240866522209,
          -0.30930572193341077,
          -0.3094612169863278,
          -0.39850706078247483,
          -0.40012338324142727,
          -0.3333844030132206,
          -0.3093063878362776,
          -0.3559071089719694,
          -0.3094547820572258,
          -0.305019204123283,
          -0.4005800253968041,
          -0.3086613236603237,
          0.3703639437878032,
          -0.30965530301613414,
          -0.3097262556290939,
          -0.3750759459140627,
          -0.39056846436343773,
          -0.3059323396280338,
          -0.33349898423624635,
          -0.4004893814387489,
          -0.3095026786201375,
          -0.3096305809589864,
          -0.27702873743069234,
          -0.20303545556370814,
          -0.2730528173369973,
          -0.2903582185942349,
          -0.27676770650516014,
          -0.39975102106677884,
          -0.4726392511314772,
          -0.3984803557182468,
          -0.3967420942418888,
          -0.39964816392047087,
          -0.39110523062558944,
          -0.39556507801714097,
          -0.30957344539232134,
          -0.3095727299191605,
          -0.30265765280009777,
          0.23440785048790974,
          -0.4001293055262512,
          -0.25957109735546446,
          -0.39854174026570227,
          -0.30877953465314917,
          0.8604855229346989,
          -0.29979246964545064,
          -0.38009251375403313,
          0.5732477476011011,
          -0.3521372239524601,
          -0.3506300588357336,
          -0.43152927950936987,
          -0.305193557286758,
          0.15785669547803638,
          -0.3052646931999138,
          -0.34681741899787893,
          -0.4310305655647136,
          -0.40040325545040195,
          -0.27710296793473643,
          4.236156750262789,
          -0.39840747204912696,
          -0.3092063570954331,
          -0.30970907322447083,
          -0.2482056701294936,
          0.6346444498252678,
          -0.40034389083330996,
          -0.35410413013318703,
          -0.3096645225505768,
          -0.3285444056918019,
          0.4647036648509342,
          -0.33183430615021037,
          -0.3368095038133761,
          -0.41720259352685496,
          -0.3096145718658097,
          -0.4058429851540445,
          -0.4066144283327245,
          -0.3094839445540938,
          -0.12645348565458298,
          -0.3991293573924185,
          3.5504114398919606,
          0.2110149097691208,
          -0.3019139406109102,
          -0.30692840711178365,
          -0.31956527113378685,
          -0.3749610882213551,
          0.10699240471535731,
          -0.3086180513135962,
          -0.3997134453994283,
          -0.37412111187329283,
          -0.2961036121503919,
          -0.30973136289350595,
          -0.3680877773635002,
          -0.3816059904267637,
          -0.2770714424045133,
          -0.1904061047006984,
          -0.30524733135753523,
          -0.26479960042760264,
          -0.39197577279083323,
          -0.4004208363365096,
          -0.32753730220831484,
          -0.27625829289326126,
          -0.32070679926096096,
          -0.35173381225154765,
          -0.3097589028809954,
          -0.30974050808992004,
          -0.2706039837164506,
          -0.39279463487614724,
          -0.3979993401670737,
          -0.30945529770089963,
          3.728778939724556,
          -0.4045013310489003,
          -0.39818927197913445,
          -0.3277984111201618,
          -0.25600815471786914,
          -0.30043027593891036,
          -0.27679507153600086,
          -0.11157948531629586,
          -0.2770492060062006,
          -0.35645744750314956,
          -0.3089262387924689,
          -0.24791905235887482,
          2.347861686682711,
          -0.3706463767010671,
          -0.29991976919990243,
          0.907544614654297,
          -0.3594646608556468,
          -0.37507545898352473,
          -0.4075367322369265,
          -0.1571420558829515,
          -0.3608065669666305,
          -0.37378675640300263,
          -0.30259730863185674,
          -0.36766257449910283,
          -0.39989068385349336,
          -0.2742775930371789,
          -0.39728428873140914,
          -0.33113563316245637,
          -0.36752355512257945,
          -0.16846342028663108,
          -0.050548682969956175,
          -0.2951961984020169,
          0.4938733369271189,
          -0.1565134620592859,
          -0.40682689670249217,
          -0.24722695848922607,
          -0.3094591786188089,
          -0.4072858565709565,
          -0.3751931824626963,
          0.6026286905011294,
          -0.3681424695260961,
          -0.3089391942555675,
          -0.3219585820310167,
          -0.3109144808843408,
          -0.3974426385002207,
          -0.40011930115322225,
          3.562735345353887,
          0.128158148424944,
          -0.39764066806609155,
          -0.30832178609383,
          -0.30915080623113783,
          -0.30114201072760466,
          -0.3096721720332831,
          -0.3916926553285086,
          -0.22288991804859773,
          -0.11156677842714774,
          -0.3874168792981695,
          -0.3089454511226082,
          -0.30196458443396224,
          -0.396665386698094,
          -0.30737526014903815,
          -0.39878454557464466,
          -0.3677436076491939,
          -0.3320124780439274,
          3.5459194140628876,
          -0.08306598899836136,
          -0.30455154800547846,
          -0.3587597580718445,
          -0.30566649258447504,
          3.5558612737608013,
          3.5571144471799685,
          -0.28191325359930003,
          -0.6620741473443011,
          -0.3987199412315253,
          -0.4772019943050589,
          2.3736302433444547,
          -0.30782523331298167,
          -0.277447974508569
         ],
         "y": [
          1.0924467648776282,
          1.0928266771262194,
          1.7033033060558354,
          1.2329055869084862,
          1.6396052069618738,
          0.8405821173760945,
          0.5832368402141358,
          1.8282820249083034,
          1.09245016069139,
          1.0928071990727881,
          1.092516570307228,
          1.092446583549202,
          1.0924469433448192,
          0.5573830921349259,
          0.8857475923260454,
          1.4931669977720186,
          0.5973767800068898,
          1.0924480862767458,
          0.976506364759995,
          1.2329104762519756,
          2.3442905307167896,
          0.8471701545263973,
          0.8405116829252486,
          0.8350940393158156,
          1.8158358756340858,
          1.815806985978397,
          0.5360849847114603,
          1.0924004765222732,
          1.092448444121936,
          1.1090755587369692,
          0.9755830137916023,
          1.2329095051793983,
          0.024042669087525934,
          1.580961858864023,
          1.2329062076295765,
          1.092412610333711,
          1.0924341651228766,
          0.30625232686546544,
          1.2329111874537646,
          0.024094960909343332,
          1.815817160664024,
          1.0921197611963254,
          0.9440953799347909,
          1.4525606985697292,
          0.8405846738092009,
          0.8857776912262091,
          0.8351069305914073,
          1.8157946045950646,
          0.8349851014719206,
          1.092447597480762,
          1.8157983048486557,
          0.9755475574462954,
          1.0924451284907521,
          1.232910363547471,
          2.951831122515253,
          1.9415255417906965,
          0.6922445201977853,
          0.8351071391619656,
          1.8157909118833235,
          0.8402039033468024,
          1.8284082362529677,
          0.9453436743943684,
          0.8405834678643346,
          1.2282363023890974,
          0.840589021553128,
          1.5893173961665326,
          1.092434609416583,
          0.8350236292666068,
          1.2327576039407588,
          0.8153789302186193,
          0.840576472041515,
          0.551467296236163,
          1.4931669017577276,
          1.2329550079338214,
          0.8404995767328771,
          0.8403841307617954,
          1.5836160102938568,
          1.2328662165912552,
          1.4667674117054201,
          1.0920860810830713,
          1.0924311136267797,
          1.092462393415747,
          1.5583637809254864,
          0.9756569302074731,
          1.2328977858442514,
          1.092434264428622,
          0.8405821349859509,
          1.2329086451101532,
          1.0924395995279481,
          1.0924478652425569,
          0.8351877127616676,
          0.4140581075552699,
          1.9609827677478042,
          1.4931753603482263,
          1.0924657802405648,
          1.2324432164000665,
          1.4932316954105724,
          1.558443525248602,
          1.8555621901065578,
          1.4930501878247824,
          1.9556258103111306,
          1.6148574265280458,
          1.2329075811303472,
          1.8677440092802553,
          1.2329101071416093,
          1.4931715903211311,
          1.0924406207105506,
          1.0924308945053938,
          1.4931669017577276,
          1.2328882908124323,
          0.8405892512817756,
          1.0924446866640813,
          0.6740969410340655,
          1.0924415436697614,
          1.0921855680207209,
          1.2329079122879743,
          1.092392340459407,
          0.8409095177123654,
          1.0924433925314978,
          1.0924472830806329,
          1.4665505070094689,
          0.5689335455180725,
          1.092254884447499,
          0.8405832301164653,
          1.232908870941212,
          1.0924452515839886,
          1.092437926203724,
          0.8350705662396558,
          0.4542317341088262,
          1.5584454045385092,
          1.092603050317858,
          0.835097812121715,
          1.2328758764041727,
          1.8949877170212872,
          1.2329270538994417,
          1.493181492546046,
          1.232880617673048,
          1.4932270964948438,
          1.23277304333091,
          1.0924410932185207,
          1.0924356631038958,
          1.0920360996812528,
          0.5524710453793827,
          1.2329028071664896,
          0.8344370239494148,
          1.4931579085109135,
          1.092415730668897,
          1.8144891646320462,
          0.5831588155140969,
          1.4667749175738116,
          1.9050638951543677,
          1.583603916422099,
          1.58359204880352,
          1.9354527839694213,
          1.8157981242954722,
          1.0770299191776262,
          1.8158030546651074,
          1.4645540673094335,
          1.9354757725218759,
          1.2329127276372922,
          0.8350949441486094,
          1.9718740961813852,
          1.493140730553682,
          1.092438019292852,
          1.0924474212699442,
          1.6395063693789935,
          1.35327064414206,
          1.2329025287881281,
          0.5360239263783408,
          1.0924409463405613,
          0.6543583557270786,
          1.1096609173912342,
          0.8406015466493214,
          1.5834304918508484,
          1.8383221106094902,
          1.0924393543227902,
          1.7238411903364406,
          1.405435926332247,
          1.0924499690426899,
          0.584641741924834,
          1.232871995845947,
          1.6148053596351313,
          1.5873861663260267,
          1.8158161963055721,
          1.0924234155645063,
          1.3262465298523995,
          1.466552104115114,
          1.074685295714,
          1.0923898983234182,
          1.2329145818439924,
          1.4665168766573813,
          1.092412159292221,
          1.0924465417062164,
          0.9755481206882849,
          1.4667606129019684,
          -0.10484752966730093,
          0.4258774064313722,
          1.0924846375941697,
          1.5582450089089106,
          0.9268027032906235,
          1.232900460868326,
          1.4337168204184547,
          0.8350550571525442,
          1.4947647619270328,
          1.5835929332624956,
          1.0924460116993808,
          1.0924453806849912,
          0.8350376566117633,
          1.3750305699951513,
          1.4931400217031985,
          1.092440040966249,
          1.567782817795293,
          1.7239030347787365,
          1.4931371824077266,
          0.6001968060930872,
          1.0911383913763406,
          0.8930736238047146,
          0.8351027817764886,
          1.094040876428332,
          0.8350777568671458,
          1.958074311296696,
          1.0924244970566048,
          1.571036306976742,
          0.40555067882765095,
          1.4662851292346137,
          0.5832267626558753,
          1.5095252615053294,
          0.8575550767037521,
          1.4665460926511376,
          1.7239072003944393,
          0.8281552858212639,
          0.911695847035361,
          1.46654707834189,
          1.092038881286002,
          0.9755425788106404,
          1.232906411919045,
          0.8350457912846793,
          1.493082767467864,
          0.9829644793340299,
          0.9755157109737788,
          1.08565092860792,
          2.035434854203738,
          1.176369287874098,
          1.0310558401389414,
          0.9853163089117613,
          1.7239037985001366,
          -0.1230337635230601,
          1.0924465172783244,
          1.7239084971733305,
          1.466546308244115,
          1.0791931927194562,
          0.9755465609239843,
          1.0924238998658786,
          1.4336486096459005,
          1.956550255064546,
          1.2327456533090275,
          1.2329106629976132,
          1.6150037046473316,
          1.0867529541095133,
          1.2330471012642639,
          1.0923665815023196,
          1.0924361400974687,
          0.5832290344237738,
          1.092452228017608,
          1.2329515452417927,
          1.0886881074823653,
          0.8506883734381085,
          1.2327789063511294,
          1.0924746346941874,
          1.0925117275025684,
          1.2329382483148656,
          1.0924397909395551,
          1.493162245051006,
          0.6434674421393297,
          0.8405896363604164,
          1.6148497759215266,
          0.8366508728811035,
          1.0924664264171262,
          0.5360606166379392,
          1.8157984193094932,
          1.615426307011488,
          1.6154840728774522,
          0.5833914583561816,
          2.0138145177135263,
          1.493165493572864,
          1.6278505514982347,
          0.6888727915898628,
          1.092352497070155,
          0.8350911724599478
         ],
         "z": [
          -0.4280643936680295,
          -0.42805241884480644,
          -0.5297034432554448,
          -0.4698377399082537,
          -0.11728201542826212,
          -0.29236761271110184,
          -0.029457449993367267,
          -0.5886620339795291,
          -0.42806397208522623,
          -0.42806624809668437,
          -0.4280647528168299,
          -0.42806437964459504,
          -0.4280643684041336,
          -0.2898342804877606,
          -0.380443704690172,
          -0.043059270178042945,
          -0.2176959288626679,
          -0.42806125848286636,
          -0.20693277191690504,
          -0.4698377650638388,
          -0.45752227797346173,
          -0.16521607528805607,
          -0.2923044839433015,
          -0.1651535202447546,
          -0.5385081184070065,
          -0.538507969770239,
          -0.3157119440390699,
          -0.428053158569425,
          -0.4280618363545271,
          -0.42814994851920857,
          -0.20692802129251575,
          -0.46983833607205816,
          0.07214231467906206,
          -0.23082961494437473,
          -0.46983805730033606,
          -0.4280223248134213,
          -0.42806171052291586,
          -0.1082659971453813,
          -0.46983820074587496,
          0.0721394273178654,
          -0.5385080221188169,
          -0.42803652803398734,
          -0.42829193960697437,
          -0.06436836566565036,
          -0.29236642143638364,
          -0.3804439742309273,
          -0.1651540102144283,
          -0.5385075918697574,
          -0.16514029180226963,
          -0.42806439795285844,
          -0.5385076632739105,
          -0.20692731520610697,
          -0.4280638615858087,
          -0.46983834051452983,
          -0.22549662103758816,
          -0.6046740006766679,
          -0.36187404410817187,
          -0.1651513929668212,
          -0.5385065779089551,
          -0.29234005963017895,
          -0.588671158891133,
          -0.36808260792026815,
          -0.2923676196593401,
          -0.4691191284070012,
          -0.29236794933985116,
          -0.48017307879482757,
          -0.4280632314348046,
          -0.16514779376376706,
          -0.4698275002175728,
          -0.16246037250962916,
          -0.2923671123682297,
          -0.2907949440933542,
          -0.043058746019911616,
          -0.4698366064685831,
          -0.29236193241673036,
          -0.2923534239203595,
          -0.4801413887767976,
          -0.4698344739134498,
          -0.04638189313289104,
          -0.4280101715434099,
          -0.42806315235488707,
          -0.4280618557569832,
          -0.27559181783337444,
          -0.20691119922417445,
          -0.46983696664212,
          -0.4280619728659122,
          -0.29236763898491147,
          -0.4698382531235793,
          -0.428063806956186,
          -0.42806439933048807,
          -0.16515442583726456,
          -0.192805599616636,
          -0.5836981828756257,
          -0.043057375646032084,
          -0.4280644915028361,
          -0.46979666224023925,
          -0.04305855572063938,
          -0.2755973992966393,
          -0.69877641175766,
          -0.04305078804762805,
          -0.5839977544125716,
          0.09364426059976878,
          -0.4698375407028333,
          -0.5387529291099056,
          -0.4698382383028736,
          -0.04305798464627747,
          -0.4280633529567018,
          -0.4280632123216526,
          -0.043058746019911616,
          -0.4698366559582793,
          -0.2923677017813345,
          -0.4280635189309274,
          -0.35257102879401553,
          -0.4280636336763121,
          -0.4280460134548367,
          -0.4698381969868082,
          -0.4280603432746553,
          -0.16433251962303957,
          -0.42806403593677816,
          -0.4280643095172856,
          -0.19237586684110144,
          -0.2604376960318578,
          -0.428050314844218,
          -0.2923676446193385,
          -0.469838087917379,
          -0.4280638622191214,
          -0.4280637739093115,
          -0.16515238304409782,
          -0.17184437420419985,
          -0.27559709411962385,
          -0.4280390145479634,
          -0.1651530619059038,
          -0.4698355447580891,
          -0.5924090672804018,
          -0.46983554623332635,
          -0.043056457006714725,
          -0.46983556915183344,
          -0.0430491061021117,
          -0.46982454240095084,
          -0.42806380908718933,
          -0.4280635877109808,
          -0.42803609759697314,
          -0.027335747289289572,
          -0.46983725430880413,
          -0.16509819714263146,
          -0.04305843791774613,
          -0.4280614847619414,
          -0.5862437454508369,
          -0.029452137001729838,
          -0.04638019056718605,
          -0.6079566787647108,
          -0.4801434212106006,
          -0.48014047999914405,
          -0.540292943049079,
          -0.5385071386808276,
          -0.4266759139213528,
          -0.5385074547285434,
          -0.04522081019656592,
          -0.5402930613247743,
          -0.4698381037468857,
          -0.16515349280234026,
          -4.124211238249765,
          -0.04305752214903526,
          -0.4280630852811474,
          -0.4280642870767877,
          -0.11737338853769577,
          -0.04845296401708619,
          -0.4698375932582431,
          -0.31570125532292087,
          -0.42806395178374534,
          -0.030597829473965242,
          -0.42749838000436025,
          -0.2923656703842236,
          -0.4801113709279326,
          -0.4937987538302017,
          -0.42806380569461,
          -0.45528115352169474,
          -0.1028550401926904,
          -0.4280640229500113,
          -0.029229356614974535,
          -0.4698343727315782,
          0.0936543471856332,
          -0.47937764644176434,
          -0.5385025186837418,
          -0.42805877506385936,
          -0.2172324835848478,
          -0.19237574414214692,
          -0.42666385087513187,
          -0.42806017361066667,
          -0.4698370530572414,
          -0.19237294457680135,
          -0.42804065073771425,
          -0.4280642877880893,
          -0.20692729192077006,
          -0.04638208071042687,
          0.10560633129175026,
          -0.11826098060593059,
          -0.4280585140195647,
          -0.2755754968292572,
          -0.4150253460716775,
          -0.4698376349852464,
          -0.48585755783419265,
          -0.16515049660883677,
          -0.058947776499953454,
          -0.4801423173741593,
          -0.4280643112444204,
          -0.4280642556314486,
          -0.165140562197534,
          0.01569584410053135,
          -0.04305682726443114,
          -0.4280635735785154,
          0.141047449905992,
          -0.45528147171025574,
          -0.043057022121962225,
          -0.0026986044278380114,
          -0.4279235530016352,
          -0.377894399089961,
          -0.16515330810546724,
          -0.42780552663353943,
          -0.16515270805502583,
          -0.5842042647377762,
          -0.42806207971219795,
          -0.3257589423856238,
          -0.11212035285935024,
          -0.1923578751407079,
          -0.02945510024852885,
          -0.015405163323197364,
          -0.26560809964764603,
          -0.19237568703006408,
          -0.4552865949139736,
          -0.1646762715911289,
          -0.29350745465268807,
          -0.19237362362807336,
          -0.42803611190828045,
          -0.20692637317887017,
          -0.46983701102312214,
          -0.1651468880199599,
          -0.04305333834115082,
          -0.3606474633123704,
          -0.20692505670001038,
          -0.4275581314859782,
          -0.16267157276997915,
          -0.2229473966041584,
          -0.37976538845962204,
          -0.2069780989236309,
          -0.45528529838780923,
          0.09342149867772463,
          -0.42806384254788915,
          -0.4552862380320752,
          -0.19237588791715557,
          -0.42603770039206995,
          -0.20692731793397934,
          -0.4280620766396625,
          -0.4858456862798997,
          -0.5840681257811834,
          -0.4698264961363325,
          -0.46983755655898585,
          0.09366641830755111,
          -0.4271186868688387,
          -0.46983904402766263,
          -0.42805874448568515,
          -0.4280629184056299,
          -0.02945718727545445,
          -0.4280644217768886,
          -0.46982546079012294,
          -0.4277701317699585,
          -0.2924152104408871,
          -0.46981148096259107,
          -0.42806414431073814,
          -0.42805425461788954,
          -0.4698330378741106,
          -0.42806016847522366,
          -0.04305901007651442,
          -0.4588376604436001,
          -0.2923654781899632,
          0.09364521423769903,
          -0.16489989035501576,
          -0.4280566398653056,
          -0.31571034198145853,
          -0.5385079225528945,
          0.09363806081887736,
          0.09363776361451882,
          -0.029432389584068196,
          5.268559952446991,
          -0.043059036369490294,
          0.0992424763528616,
          0.07963965061687818,
          -0.42805736286118146,
          -0.16515390295591395
         ]
        },
        {
         "customdata": [
          [
           "SHA-256"
          ],
          [
           "Ethash"
          ],
          [
           "Scrypt"
          ],
          [
           "CryptoNight-V7"
          ],
          [
           "Ethash"
          ],
          [
           "Equihash"
          ],
          [
           "Multiple"
          ],
          [
           "Scrypt"
          ],
          [
           "X11"
          ],
          [
           "Scrypt"
          ],
          [
           "Multiple"
          ],
          [
           "Scrypt"
          ],
          [
           "SHA-256"
          ],
          [
           "Scrypt"
          ],
          [
           "Scrypt"
          ],
          [
           "Quark"
          ],
          [
           "Groestl"
          ],
          [
           "Scrypt"
          ],
          [
           "Scrypt"
          ],
          [
           "Scrypt"
          ],
          [
           "X11"
          ],
          [
           "Multiple"
          ],
          [
           "SHA-256"
          ],
          [
           "Scrypt"
          ],
          [
           "Scrypt"
          ],
          [
           "Scrypt"
          ],
          [
           "Scrypt"
          ],
          [
           "Scrypt"
          ],
          [
           "NeoScrypt"
          ],
          [
           "Scrypt"
          ],
          [
           "Scrypt"
          ],
          [
           "Scrypt"
          ],
          [
           "Scrypt"
          ],
          [
           "SHA-256"
          ],
          [
           "Scrypt"
          ],
          [
           "Scrypt"
          ],
          [
           "Scrypt"
          ],
          [
           "Scrypt"
          ],
          [
           "HybridScryptHash256"
          ],
          [
           "Scrypt"
          ],
          [
           "Scrypt"
          ],
          [
           "SHA-256"
          ],
          [
           "Scrypt"
          ],
          [
           "Scrypt"
          ],
          [
           "Scrypt"
          ],
          [
           "Scrypt"
          ],
          [
           "SHA-256"
          ],
          [
           "SHA-256"
          ],
          [
           "SHA-256"
          ],
          [
           "SHA-256"
          ],
          [
           "SHA-256"
          ],
          [
           "X11"
          ],
          [
           "Scrypt"
          ],
          [
           "Lyra2REv2"
          ],
          [
           "Scrypt"
          ],
          [
           "SHA-256"
          ],
          [
           "CryptoNight"
          ],
          [
           "CryptoNight"
          ],
          [
           "Scrypt"
          ],
          [
           "Scrypt"
          ],
          [
           "Scrypt"
          ],
          [
           "Scrypt"
          ],
          [
           "Scrypt"
          ],
          [
           "Scrypt"
          ],
          [
           "Stanford Folding"
          ],
          [
           "Multiple"
          ],
          [
           "QuBit"
          ],
          [
           "Scrypt"
          ],
          [
           "Scrypt"
          ],
          [
           "M7 POW"
          ],
          [
           "Scrypt"
          ],
          [
           "SHA-256"
          ],
          [
           "Scrypt"
          ],
          [
           "X11"
          ],
          [
           "Lyra2RE"
          ],
          [
           "SHA-256"
          ],
          [
           "X11"
          ],
          [
           "Scrypt"
          ],
          [
           "Scrypt"
          ],
          [
           "Ethash"
          ],
          [
           "Blake2b"
          ],
          [
           "X11"
          ],
          [
           "SHA-256"
          ],
          [
           "Scrypt"
          ],
          [
           "1GB AES Pattern Search"
          ],
          [
           "Scrypt"
          ],
          [
           "SHA-256"
          ],
          [
           "X11"
          ],
          [
           "Dagger"
          ],
          [
           "Scrypt"
          ],
          [
           "X11GOST"
          ],
          [
           "Scrypt"
          ],
          [
           "X11"
          ],
          [
           "Scrypt"
          ],
          [
           "X11"
          ],
          [
           "Equihash"
          ],
          [
           "CryptoNight"
          ],
          [
           "SHA-256"
          ],
          [
           "Multiple"
          ],
          [
           "Scrypt"
          ],
          [
           "SHA-256"
          ],
          [
           "Scrypt"
          ],
          [
           "Lyra2Z"
          ],
          [
           "Ethash"
          ],
          [
           "Equihash"
          ],
          [
           "Scrypt"
          ],
          [
           "X11"
          ],
          [
           "X11"
          ],
          [
           "CryptoNight"
          ],
          [
           "Scrypt"
          ],
          [
           "CryptoNight"
          ],
          [
           "Lyra2RE"
          ],
          [
           "X11"
          ],
          [
           "CryptoNight-V7"
          ],
          [
           "Scrypt"
          ],
          [
           "X11"
          ],
          [
           "Equihash"
          ],
          [
           "Scrypt"
          ],
          [
           "Lyra2RE"
          ],
          [
           "Dagger-Hashimoto"
          ],
          [
           "Scrypt"
          ],
          [
           "NIST5"
          ],
          [
           "Scrypt"
          ],
          [
           "SHA-256"
          ],
          [
           "Scrypt"
          ],
          [
           "CryptoNight-V7"
          ],
          [
           "Argon2d"
          ],
          [
           "Blake2b"
          ],
          [
           "Cloverhash"
          ],
          [
           "CryptoNight"
          ],
          [
           "X11"
          ],
          [
           "Scrypt"
          ],
          [
           "Scrypt"
          ],
          [
           "X11"
          ],
          [
           "X11"
          ],
          [
           "CryptoNight"
          ],
          [
           "Time Travel"
          ],
          [
           "Scrypt"
          ],
          [
           "Keccak"
          ],
          [
           "X11"
          ],
          [
           "SHA-256"
          ],
          [
           "Scrypt"
          ],
          [
           "Scrypt"
          ],
          [
           "Scrypt"
          ],
          [
           "Scrypt"
          ],
          [
           "Scrypt"
          ],
          [
           "Scrypt"
          ],
          [
           "CryptoNight"
          ],
          [
           "Equihash"
          ],
          [
           "X11"
          ],
          [
           "NeoScrypt"
          ],
          [
           "Equihash"
          ],
          [
           "Dagger"
          ],
          [
           "Scrypt"
          ],
          [
           "X11"
          ],
          [
           "NeoScrypt"
          ],
          [
           "Ethash"
          ],
          [
           "NeoScrypt"
          ],
          [
           "Multiple"
          ],
          [
           "CryptoNight"
          ],
          [
           "CryptoNight"
          ],
          [
           "Ethash"
          ],
          [
           "X11"
          ],
          [
           "CryptoNight-V7"
          ],
          [
           "Scrypt"
          ],
          [
           "BLAKE256"
          ],
          [
           "X11"
          ],
          [
           "NeoScrypt"
          ],
          [
           "NeoScrypt"
          ],
          [
           "Scrypt"
          ],
          [
           "X11"
          ],
          [
           "SHA-256"
          ],
          [
           "C11"
          ],
          [
           "CryptoNight"
          ],
          [
           "SkunkHash"
          ],
          [
           "CryptoNight"
          ],
          [
           "Scrypt"
          ],
          [
           "Dagger"
          ],
          [
           "Lyra2REv2"
          ],
          [
           "Scrypt"
          ],
          [
           "Scrypt"
          ],
          [
           "X11"
          ],
          [
           "Ethash"
          ],
          [
           "CryptoNight"
          ],
          [
           "Scrypt"
          ],
          [
           "IMesh"
          ],
          [
           "Equihash"
          ],
          [
           "Lyra2Z"
          ],
          [
           "X11"
          ],
          [
           "CryptoNight"
          ],
          [
           "NIST5"
          ],
          [
           "Lyra2RE"
          ],
          [
           "Tribus"
          ],
          [
           "Lyra2Z"
          ],
          [
           "CryptoNight"
          ],
          [
           "CryptoNight Heavy"
          ],
          [
           "CryptoNight"
          ],
          [
           "Jump Consistent Hash"
          ],
          [
           "CryptoNight"
          ],
          [
           "X16R"
          ],
          [
           "HMQ1725"
          ],
          [
           "X11"
          ],
          [
           "Scrypt"
          ],
          [
           "CryptoNight-V7"
          ],
          [
           "Cryptonight-GPU"
          ],
          [
           "XEVAN"
          ],
          [
           "CryptoNight Heavy"
          ],
          [
           "SHA-256"
          ],
          [
           "X11"
          ],
          [
           "X16R"
          ],
          [
           "Equihash"
          ],
          [
           "Lyra2Z"
          ],
          [
           "SHA-256"
          ],
          [
           "CryptoNight"
          ],
          [
           "Blake"
          ],
          [
           "Blake"
          ],
          [
           "Exosis"
          ],
          [
           "Scrypt"
          ],
          [
           "Equihash"
          ],
          [
           "Equihash"
          ],
          [
           "QuBit"
          ],
          [
           "SHA-256"
          ],
          [
           "X13"
          ],
          [
           "SHA-256"
          ],
          [
           "Scrypt"
          ],
          [
           "NeoScrypt"
          ],
          [
           "Blake"
          ],
          [
           "Scrypt"
          ],
          [
           "SHA-256"
          ],
          [
           "Scrypt"
          ],
          [
           "Groestl"
          ],
          [
           "Scrypt"
          ],
          [
           "Scrypt"
          ],
          [
           "Multiple"
          ],
          [
           "Equihash+Scrypt"
          ],
          [
           "Ethash"
          ],
          [
           "CryptoNight"
          ],
          [
           "Equihash"
          ]
         ],
         "hovertemplate": "<b>%{hovertext}</b><br><br>Class=%{marker.color}<br>PC 1=%{x}<br>PC 2=%{y}<br>PC 3=%{z}<br>Algorithm=%{customdata[0]}<extra></extra>",
         "hovertext": [
          "Bitcoin",
          "Ethereum",
          "Litecoin",
          "Monero",
          "Ethereum Classic",
          "ZCash",
          "DigiByte",
          "ProsperCoin",
          "Spreadcoin",
          "Argentum",
          "MyriadCoin",
          "MoonCoin",
          "ZetaCoin",
          "SexCoin",
          "Quatloo",
          "QuarkCoin",
          "Riecoin",
          "Digitalcoin ",
          "Catcoin",
          "CannaCoin",
          "CryptCoin",
          "Verge",
          "DevCoin",
          "EarthCoin",
          "E-Gulden",
          "Einsteinium",
          "Emerald",
          "Franko",
          "FeatherCoin",
          "GrandCoin",
          "GlobalCoin",
          "GoldCoin",
          "Infinite Coin",
          "IXcoin",
          "KrugerCoin",
          "LuckyCoin",
          "Litebar ",
          "MegaCoin",
          "MediterraneanCoin",
          "MinCoin",
          "NobleCoin",
          "Namecoin",
          "NyanCoin",
          "RonPaulCoin",
          "StableCoin",
          "SmartCoin",
          "SysCoin",
          "TigerCoin",
          "TerraCoin",
          "UnbreakableCoin",
          "Unobtanium",
          "UroCoin",
          "ViaCoin",
          "Vertcoin",
          "WorldCoin",
          "JouleCoin",
          "ByteCoin",
          "DigitalNote ",
          "MonaCoin",
          "Gulden",
          "PesetaCoin",
          "Wild Beast Coin",
          "Flo",
          "ArtByte",
          "Folding Coin",
          "Unitus",
          "CypherPunkCoin",
          "OmniCron",
          "GreenCoin",
          "Cryptonite",
          "MasterCoin",
          "SoonCoin",
          "1Credit",
          "MarsCoin ",
          "Crypto",
          "Anarchists Prime",
          "BowsCoin",
          "Song Coin",
          "BitZeny",
          "Expanse",
          "Siacoin",
          "MindCoin",
          "I0coin",
          "Revolution VR",
          "HOdlcoin",
          "Gamecredits",
          "CarpeDiemCoin",
          "Adzcoin",
          "SoilCoin",
          "YoCoin",
          "SibCoin",
          "Francs",
          "BolivarCoin",
          "Omni",
          "PizzaCoin",
          "Komodo",
          "Karbo",
          "ZayedCoin",
          "Circuits of Value",
          "DopeCoin",
          "DollarCoin",
          "Shilling",
          "ZCoin",
          "Elementrem",
          "ZClassic",
          "KiloCoin",
          "ArtexCoin",
          "Kurrent",
          "Cannabis Industry Coin",
          "OsmiumCoin",
          "Bikercoins",
          "HexxCoin",
          "PacCoin",
          "Citadel",
          "BeaverCoin",
          "VaultCoin",
          "Zero",
          "Canada eCoin",
          "Zoin",
          "DubaiCoin",
          "EB3coin",
          "Coinonat",
          "BenjiRolls",
          "ILCoin",
          "EquiTrader",
          "Quantum Resistant Ledger",
          "Dynamic",
          "Nano",
          "ChanCoin",
          "Dinastycoin",
          "DigitalPrice",
          "Unify",
          "SocialCoin",
          "ArcticCoin",
          "DAS",
          "LeviarCoin",
          "Bitcore",
          "gCn Coin",
          "SmartCash",
          "Onix",
          "Bitcoin Cash",
          "Sojourn Coin",
          "NewYorkCoin",
          "FrazCoin",
          "Kronecoin",
          "AdCoin",
          "Linx",
          "Sumokoin",
          "BitcoinZ",
          "Elements",
          "VIVO Coin",
          "Bitcoin Gold",
          "Pirl",
          "eBoost",
          "Pura",
          "Innova",
          "Ellaism",
          "GoByte",
          "SHIELD",
          "UltraNote",
          "BitCoal",
          "DaxxCoin",
          "AC3",
          "Lethean",
          "PopularCoin",
          "Photon",
          "Sucre",
          "SparksPay",
          "GunCoin",
          "IrishCoin",
          "Pioneer Coin",
          "UnitedBitcoin",
          "Interzone",
          "TurtleCoin",
          "MUNcoin",
          "Niobio Cash",
          "ShareChain",
          "Travelflex",
          "KREDS",
          "BitFlip",
          "LottoCoin",
          "Crypto Improvement Fund",
          "Callisto Network",
          "BitTube",
          "Poseidon",
          "Aidos Kuneen",
          "Bitrolium",
          "Alpenschillling",
          "FuturoCoin",
          "Monero Classic",
          "Jumpcoin",
          "Infinex",
          "KEYCO",
          "GINcoin",
          "PlatinCoin",
          "Loki",
          "Newton Coin",
          "MassGrid",
          "PluraCoin",
          "Motion",
          "PlusOneCoin",
          "Axe",
          "HexCoin",
          "Webchain",
          "Ryo",
          "Urals Coin",
          "Qwertycoin",
          "Project Pai",
          "Azart",
          "Xchange",
          "CrypticCoin",
          "Actinium",
          "Bitcoin SV",
          "FREDEnergy",
          "Universal Molecule",
          "Lithium",
          "Exosis",
          "Block-Logic",
          "Beam",
          "Bithereum",
          "SLICE",
          "BLAST",
          "Bitcoin Rhodium",
          "GlobalToken",
          "SolarCoin",
          "UFO Coin",
          "BlakeCoin",
          "Crypto Escudo",
          "Crown Coin",
          "SmileyCoin",
          "Groestlcoin",
          "Bata",
          "Pakcoin",
          "JoinCoin",
          "Vollar",
          "Reality Clash",
          "Beldex",
          "Horizen"
         ],
         "legendgroup": "0",
         "marker": {
          "color": [
           0,
           0,
           0,
           0,
           0,
           0,
           0,
           0,
           0,
           0,
           0,
           0,
           0,
           0,
           0,
           0,
           0,
           0,
           0,
           0,
           0,
           0,
           0,
           0,
           0,
           0,
           0,
           0,
           0,
           0,
           0,
           0,
           0,
           0,
           0,
           0,
           0,
           0,
           0,
           0,
           0,
           0,
           0,
           0,
           0,
           0,
           0,
           0,
           0,
           0,
           0,
           0,
           0,
           0,
           0,
           0,
           0,
           0,
           0,
           0,
           0,
           0,
           0,
           0,
           0,
           0,
           0,
           0,
           0,
           0,
           0,
           0,
           0,
           0,
           0,
           0,
           0,
           0,
           0,
           0,
           0,
           0,
           0,
           0,
           0,
           0,
           0,
           0,
           0,
           0,
           0,
           0,
           0,
           0,
           0,
           0,
           0,
           0,
           0,
           0,
           0,
           0,
           0,
           0,
           0,
           0,
           0,
           0,
           0,
           0,
           0,
           0,
           0,
           0,
           0,
           0,
           0,
           0,
           0,
           0,
           0,
           0,
           0,
           0,
           0,
           0,
           0,
           0,
           0,
           0,
           0,
           0,
           0,
           0,
           0,
           0,
           0,
           0,
           0,
           0,
           0,
           0,
           0,
           0,
           0,
           0,
           0,
           0,
           0,
           0,
           0,
           0,
           0,
           0,
           0,
           0,
           0,
           0,
           0,
           0,
           0,
           0,
           0,
           0,
           0,
           0,
           0,
           0,
           0,
           0,
           0,
           0,
           0,
           0,
           0,
           0,
           0,
           0,
           0,
           0,
           0,
           0,
           0,
           0,
           0,
           0,
           0,
           0,
           0,
           0,
           0,
           0,
           0,
           0,
           0,
           0,
           0,
           0,
           0,
           0,
           0,
           0,
           0,
           0,
           0,
           0,
           0,
           0,
           0,
           0,
           0,
           0,
           0,
           0,
           0,
           0,
           0,
           0,
           0,
           0,
           0,
           0,
           0,
           0,
           0,
           0,
           0,
           0,
           0,
           0,
           0,
           0,
           0,
           0,
           0,
           0,
           0,
           0
          ],
          "coloraxis": "coloraxis",
          "symbol": "diamond"
         },
         "mode": "markers",
         "name": "0",
         "scene": "scene",
         "showlegend": true,
         "type": "scatter3d",
         "x": [
          -0.16530050170281835,
          -0.14010281328399882,
          -0.14040733345287895,
          -0.1766741899729693,
          -0.13853632752532558,
          -0.11222563908179206,
          0.12641978603458345,
          -0.1415610795977105,
          -0.23233698011954593,
          -0.14117540654811878,
          -0.12857627256143897,
          2.594941733978268,
          -0.16236619229188556,
          -0.13841331150760536,
          -0.1409784962175926,
          -0.23468297898811422,
          -0.24384807287788005,
          -0.1410269175046771,
          -0.1415432162336126,
          -0.14163019534792012,
          -0.23242694706080208,
          0.15040279014860225,
          0.21501713029255332,
          0.1087311497882925,
          -0.14137474632210612,
          -0.13695179336337818,
          -0.1413137469140058,
          -0.14168758827656894,
          -0.1862309647520494,
          -0.12077751968635082,
          -0.14047470334656928,
          -0.14075420576114972,
          1.6187478851663657,
          -0.16526158929556345,
          -0.1380264511167783,
          -0.14140136722066296,
          -0.14175851570504186,
          -0.14101291471894875,
          -0.15337512319788807,
          -0.1416390336141442,
          -0.005762631693962754,
          -0.16533976606217307,
          -0.13526117322231554,
          -0.14161847473304107,
          -0.13970202357474648,
          -0.14110188418221992,
          -0.15240991085964625,
          -0.16479997595557197,
          -0.1650892080393963,
          -0.16507258598487043,
          -0.16566651662008974,
          -0.23260186516321538,
          -0.1413329229525508,
          -0.1921074500995832,
          -0.13841826972903806,
          -0.16486773431748736,
          3.858393825939155,
          0.43492385149553503,
          -0.14019337305088816,
          -0.1247013439152771,
          -0.1389036774193671,
          -0.14176075852819123,
          -0.13876764524709514,
          -0.12490220651322653,
          -0.16394502749489073,
          -0.16280374272749887,
          -0.2234149923284891,
          -0.14163292027562033,
          -0.01377993865818756,
          -0.1432738862638404,
          -0.14176968861417066,
          -0.16536774625978046,
          0.5138926877483192,
          -0.23198502925693862,
          -0.17410800580867153,
          -0.1651061564416926,
          -0.23227184342476426,
          -0.13988263537606066,
          -0.13906952479200557,
          -0.14117829036778434,
          0.36338301767354436,
          -0.23230743037600804,
          -0.1652627198361009,
          -0.13770090769066706,
          -0.12564751188803194,
          -0.14032369414143478,
          0.25598033436590245,
          -0.23146295454813903,
          -0.17555749216223782,
          -0.14057407436916153,
          -0.1670002693331293,
          -0.1415583312769874,
          -0.23227052822114236,
          -0.14176974749455779,
          -0.23242159364370651,
          -0.0813148207854136,
          0.278832925162686,
          -0.165524549219579,
          -0.14274715231978227,
          -0.13891850068200998,
          -0.16548288930131613,
          -0.14143109179920946,
          -0.15108287909246945,
          -0.1409186924778479,
          -0.11224741389489751,
          -0.06809732475141825,
          -0.21891347612942633,
          -0.23023666222230763,
          0.2788270979087449,
          -0.14175138068623383,
          0.2789587132568305,
          -0.1746516336352543,
          0.48667955871814006,
          -0.17543240269133448,
          -0.14171944519383098,
          -0.22511592590635407,
          -0.11225982444459062,
          -0.13984040645419168,
          -0.17436810855492713,
          -0.15599892581244484,
          -0.11248545102180885,
          -0.18378240277087987,
          -0.14127906752963365,
          -0.13163790415140691,
          -0.1411003316613571,
          -0.1752880086042306,
          -0.1322743224889809,
          -0.03984609833587065,
          -0.12748451147284995,
          0.3151857200650507,
          -0.2314716277066138,
          -0.14142120347613038,
          -0.14118361779690733,
          -0.23186864220044115,
          -0.2324497475618211,
          0.2792245177315344,
          -0.10931876376336151,
          3.290083763195154,
          -0.10258125463747635,
          -0.2232700147879283,
          -0.16529965982042558,
          -0.06694347366371234,
          1.6179992893930124,
          -0.1415197749891874,
          -0.1409682897139217,
          -0.1406673010121943,
          -0.14065413655752596,
          0.27940899130747754,
          0.10132962972261517,
          -0.1865281050252698,
          -0.19094970291251795,
          -0.11210480677182276,
          -0.1743092560371471,
          -0.13983860253909097,
          -0.2279661784216749,
          -0.19079423237202453,
          -0.13927542874826204,
          -0.19089498858604764,
          -0.15297327928693136,
          1.121724668380321,
          0.2788098578877691,
          -0.06374921164759483,
          -0.22770859754374845,
          -0.1643328281673374,
          -0.05736548321306108,
          1.096796458444677,
          -0.2324235686922302,
          -0.1909471618162849,
          -0.18394076165976775,
          -0.14076591040521563,
          -0.2323484754387042,
          -0.165278895468265,
          -0.22393254338708646,
          8.059466271159915,
          -0.10745658117744145,
          0.2827081473574525,
          0.05254298348227004,
          -0.17380807693100414,
          -0.17757397205754483,
          -0.14134349467569474,
          0.16772312234187509,
          -0.22645313834357353,
          -0.09205616821300172,
          0.28677733165918257,
          -0.14158197568854566,
          -0.14735347940200205,
          -0.11108920357624708,
          -0.1488540204292052,
          -0.2315126977732039,
          0.27899362827533475,
          -0.18384192585888112,
          -0.17449596497551265,
          -0.12865955059955966,
          -0.15116772252214708,
          0.28294256815433355,
          0.5428022394675263,
          2.0981653630383152,
          -0.13513473273197385,
          0.29268446711970336,
          -0.19224103382316915,
          -0.1394568548059154,
          -0.23240561508362736,
          -0.14160675208644677,
          -0.16422208962242563,
          -0.19323738741689198,
          -0.15828300596652128,
          3.081253266010897,
          -0.1248625815608314,
          -0.23237682635661205,
          -0.19166564425085736,
          -0.006186304953287635,
          -0.1505620834639531,
          -0.1652996976601054,
          0.35922582566553807,
          -0.1386543791305141,
          -0.13904817292756172,
          -0.11933315241675976,
          -0.14049230136442115,
          -0.11015405548724383,
          -0.11193654034380003,
          -0.2226215730573394,
          -0.16457114374588508,
          -0.13763074957059473,
          -0.16343224030175588,
          0.5580493555727366,
          -0.1156208632604344,
          -0.08924737178885406,
          -0.12505389194665353,
          -0.16508857389453035,
          0.5786108282544249,
          -0.2434061553140073,
          -0.14168391751596002,
          -0.1396271255838841,
          -0.16354403128706424,
          -0.14257525837906176,
          -0.14095206959171047,
          0.30070683524607345,
          -0.11222670374579749
         ],
         "y": [
          -1.3411137414825838,
          -2.0291371537373686,
          -1.0892577044391216,
          -2.2424632761433294,
          -2.029220233659991,
          -2.047353153279057,
          -1.902472142634215,
          -1.0892643006993992,
          -0.9487980971709219,
          -1.0892783199358456,
          -1.900176477865062,
          -1.2470632845732277,
          -1.341088511999675,
          -1.0892885402349872,
          -1.0892958640449275,
          -0.45775402281472877,
          -1.295964603810428,
          -1.0892597665091708,
          -1.089263477275697,
          -1.0892616744232064,
          -0.9488007653226097,
          -1.898079697948303,
          -1.3390960303624544,
          -1.0876941927291497,
          -1.0892557115425765,
          -1.0892579904735424,
          -1.0892610338742608,
          -1.0892629119046011,
          -1.645640715025832,
          -1.0893412341439723,
          -1.0892504573573705,
          -1.0892650018295833,
          -1.0751018903115517,
          -1.341111947789172,
          -1.0892821108239552,
          -1.0892561991833933,
          -1.0892588711164863,
          -1.0892545614861187,
          -2.2469012051957593,
          -1.0892597599017129,
          -1.0940810610063672,
          -1.3411155513994566,
          -1.0892075739688112,
          -1.0892669463665063,
          -1.0893479442786722,
          -1.0892654656920024,
          -1.3411606592233267,
          -1.3411099044132706,
          -1.3411195305730244,
          -1.3411468641252076,
          -1.3411152692385189,
          -0.9487955178782398,
          -1.0892552626009893,
          -1.2700013407091455,
          -1.0893001719646498,
          -1.3411115399957132,
          -2.335034731588701,
          -2.363828902178647,
          -1.0892634593405484,
          -1.0897139161481002,
          -1.0892493141615869,
          -1.0892599195401098,
          -1.0892383214296348,
          -1.0892203372888547,
          -2.2827728029959373,
          -1.9002752813955195,
          -1.6127533004866081,
          -1.089254576423847,
          -1.0907532876940023,
          -2.317286350558366,
          -1.0892588459420753,
          -1.3411168411653578,
          -1.127066182958687,
          -0.948791486835508,
          -2.2774582363438496,
          -1.3411290079562417,
          -0.9487958341187468,
          -1.0893268684809998,
          -1.0893187888247278,
          -2.029199230299562,
          -2.1997277043564507,
          -0.9487937771866057,
          -1.3411119999021932,
          -1.0892261228136455,
          -2.2149623502320614,
          -1.0892538490291876,
          -1.3376709176766468,
          -0.9488051342846399,
          -2.2813447201178936,
          -1.0893277654999887,
          -2.254296288645716,
          -1.0892634345464325,
          -0.9487987313627038,
          -1.0892588464156203,
          -0.948805694824279,
          -1.3750846574615248,
          -2.363636739514522,
          -1.341115739743029,
          -1.9002381202053855,
          -1.0892748539031534,
          -1.3411144866211184,
          -1.0892649640305652,
          -2.2104533748819493,
          -2.029194140372698,
          -2.0473541570036144,
          -1.0932570838938005,
          -0.948534276084222,
          -0.9488550908099017,
          -2.3636451422658387,
          -1.0892595510678937,
          -2.363642033237587,
          -2.277442041016559,
          -0.9895864887739995,
          -2.242542836577002,
          -1.0892585564644164,
          -0.9491899157936622,
          -2.047351771207047,
          -1.0892434030369593,
          -2.2774371058794594,
          -2.1950809489649026,
          -1.0908663805090153,
          -0.5981141347451623,
          -1.0892620385255056,
          -1.341395180962951,
          -1.0892807750470777,
          -2.242477023252164,
          -2.1701948750719198,
          -2.2185664475228926,
          -2.0455540023620347,
          -2.363432573047614,
          -0.9488173655562601,
          -1.0892565787660997,
          -1.0892868325789966,
          -0.9488060875131223,
          -0.948802481847495,
          -2.3636512253540607,
          -2.025171033809881,
          -1.0789582675981597,
          -1.1993770383234146,
          -0.9491787740161204,
          -1.3411137026754492,
          -1.0935736300003598,
          -1.0081406611677834,
          -1.0892616572685887,
          -1.0892835620927366,
          -1.0892815192940346,
          -1.0892809124697016,
          -2.363668521112677,
          -2.053022464699196,
          -0.9480027582400538,
          -1.6456297330222274,
          -2.0473475834330044,
          -2.281380581536715,
          -1.0892433198842875,
          -0.9488406463512344,
          -1.645635876914957,
          -2.0293060657346973,
          -1.645630760371772,
          -1.9003101880249431,
          -2.387630406188215,
          -2.3636396514841875,
          -2.0330122563263835,
          -0.9489766664459044,
          -2.2426334767106457,
          -1.0890650560547213,
          -1.2562767829679806,
          -0.9488019406355701,
          -1.6456251790849796,
          -1.6456564192192786,
          -1.089259443937566,
          -0.948800845457198,
          -1.3411121288130476,
          -1.25490413081618,
          -2.744443139349151,
          -2.0819241276996863,
          -2.3636991748939655,
          -1.0876960882895654,
          -2.2813158423641404,
          -1.2700827090925997,
          -1.0892683208555023,
          -1.0886034694112003,
          -0.9488818218510072,
          -2.0317289488971984,
          -2.364002609403379,
          -1.0892652639186662,
          -2.1911165765418423,
          -2.047337002422254,
          -2.2105566497388778,
          -0.9488192587084169,
          -2.363635543322392,
          -0.5980967265391749,
          -2.2774469038938556,
          -2.1783168119924046,
          -2.2104492256030976,
          -2.3638835888574303,
          -2.2725373409726433,
          -2.415827981410462,
          -2.150950537357072,
          -2.3637303160479446,
          -1.3241421152851616,
          -2.223124421500264,
          -0.9488020004127311,
          -1.0892672233091112,
          -2.243183356010345,
          -2.2384059707400743,
          -0.7480424028353361,
          -2.29182435530677,
          -1.3407870810271072,
          -0.9488036312462728,
          -1.3241732147891065,
          -2.0480696218958263,
          -2.2104756591116654,
          -1.3411137044196948,
          -2.3658984760606074,
          -2.2284821504208394,
          -2.2284412256790445,
          -2.1503838124892374,
          -1.0892882419140908,
          -2.0474364654392034,
          -2.0473471374531864,
          -1.6127906740239049,
          -1.341111918333617,
          -0.36590751802165394,
          -1.3411363244162988,
          -1.1295415023038298,
          -1.6450953033631726,
          -2.2313032396140486,
          -1.0892273293302448,
          -1.3411195013416934,
          -1.093025330998548,
          -1.295959762138108,
          -1.0892581315187195,
          -1.0892942080302572,
          -1.9003114759996402,
          -2.2291757722357124,
          -2.029194408807745,
          -2.363656471157108,
          -2.0473532023554557
         ],
         "z": [
          0.16179882783292027,
          0.29686203056956306,
          0.026104316748133766,
          0.29317741001779163,
          0.29686795648776376,
          0.2846751940753739,
          0.26395673389935564,
          0.02610270114373439,
          -0.015671285286823926,
          0.026103899150358368,
          0.2634474418119319,
          0.036968375759765595,
          0.16180259397334876,
          0.02610882181011686,
          0.026104932009940754,
          -0.0011139740041288784,
          0.07372493079899475,
          0.026103389108407028,
          0.02610269690723399,
          0.02610248183158287,
          -0.015671323925644968,
          0.26381775049412043,
          0.16233774424436692,
          0.026447546413043737,
          0.026102656952674545,
          0.026109968358369123,
          0.02610297235125368,
          0.026102438340680382,
          0.138463375065802,
          0.02613974323317439,
          0.026103912897127213,
          0.026104046527807158,
          0.02840148449895916,
          0.1617988186043912,
          0.026109192496909274,
          0.02610263327837089,
          0.026102158708609,
          0.026103200883001266,
          0.255853161372661,
          0.026102389766133785,
          0.026519681547769063,
          0.1617988371449026,
          0.026110683179118542,
          0.026102714755644893,
          0.02610912744287002,
          0.026103497870451856,
          0.16182177006431844,
          0.1617994891680006,
          0.16179940746502658,
          0.16180054305753455,
          0.16179829239164412,
          -0.015671822221378955,
          0.026102707009292143,
          0.16065984368264716,
          0.02610928542115851,
          0.16179944490326895,
          0.3262449092445326,
          0.32182493762868725,
          0.026104899346330094,
          0.026148452347657093,
          0.026106430709994008,
          0.02610219756486857,
          0.026106206946623,
          0.026128108312409016,
          0.3947869691073272,
          0.2633955837403661,
          0.19372666016602907,
          0.02610218953757649,
          0.026371644178025348,
          0.3163572922374947,
          0.026102139451678365,
          0.16179884378072512,
          0.028705496354653092,
          -0.015670978915191914,
          0.29616297823534027,
          0.16179976414050973,
          -0.0156712707469804,
          0.026107977963954063,
          0.02610897743857566,
          0.29686279261607246,
          0.1843819245644455,
          -0.01567141224589479,
          0.1617988188725118,
          0.026107453345309214,
          0.3929693857991741,
          0.026104296912116413,
          0.1623468100836968,
          -0.015669573355751046,
          0.3359981541683739,
          0.026106885798598205,
          0.3399152214148574,
          0.026102670504185736,
          -0.015671151107883613,
          0.02610213937477956,
          -0.01567111528099701,
          0.28457325298959846,
          0.32156237871734594,
          0.1617985431862831,
          0.26342681239508936,
          0.02610744223383231,
          0.1617985603640485,
          0.026102940205424374,
          0.29913951886774,
          0.2968630099098487,
          0.28467519923951945,
          0.026384526165156602,
          -0.01566007470229009,
          -0.0156655459485062,
          0.3215627099646301,
          0.026102197928329723,
          0.3215627987015625,
          0.29616143417308866,
          -0.012843632699060708,
          0.2931826632481075,
          0.026102209717975867,
          -0.015643609844094408,
          0.28467508223181015,
          0.02610466209898329,
          0.2961616967971987,
          0.2705844276422078,
          0.026215126796613773,
          -0.02597583874431104,
          0.026103069695528492,
          0.16186518400418667,
          0.026104121247518052,
          0.2931802299831567,
          0.31803399263856247,
          0.18448775924824348,
          0.20816777247553694,
          0.32161343286639915,
          -0.01566909149476325,
          0.02610261629562193,
          0.02610423096303365,
          -0.015670196848375284,
          -0.015671291529268362,
          0.32156360530784184,
          0.1681232382346116,
          0.03128576833660794,
          0.09364365829913651,
          -0.015641048847643533,
          0.16179882763325,
          0.02639924639276716,
          0.02568477160687677,
          0.026102661360122688,
          0.026104449785302533,
          0.026104858206451417,
          0.02610485508435081,
          0.3215646077971896,
          0.2852536600817394,
          -0.01562877118310278,
          0.13845522795262757,
          0.284675165418615,
          0.33600164579006553,
          0.026104661671164174,
          -0.015662425913737538,
          0.13845573086057278,
          0.2968702309167606,
          0.13845535891771643,
          0.2634130442509702,
          0.32391113646982406,
          0.3215624591573962,
          0.2971437999737038,
          -0.01565648945136004,
          0.29320445532811423,
          0.026232042221143805,
          0.08854230929539392,
          -0.015671270748907836,
          0.13845504742345932,
          0.1384677499095455,
          0.02610380203368136,
          -0.015671192597318844,
          0.1617987976989612,
          0.03914127293798558,
          0.3497045660627459,
          0.21577442213700648,
          0.3215712356717472,
          0.026355914941201722,
          0.3359998384173313,
          0.16068686445984226,
          0.02610321930829927,
          0.02658070509432802,
          -0.015658286585471404,
          0.29704555615522804,
          0.3215901824863691,
          0.02610270609948043,
          0.2521454773362981,
          0.28467639395664446,
          0.2991473448565181,
          -0.01566908175452903,
          0.3215625925018977,
          -0.025976641853979632,
          0.29616188545514244,
          0.28785300934573,
          0.2991392121228177,
          0.3215790968585335,
          0.3345748895651704,
          0.3266483499873135,
          0.34830372318593633,
          0.32158878154187504,
          0.18855679061735767,
          0.2804129273143516,
          -0.015671239021506994,
          0.026102745119839385,
          0.29322693542819483,
          0.3248325051927112,
          -0.03168683761723155,
          0.33950020962503946,
          0.1618515820579839,
          -0.01567112589806927,
          0.1885589909318316,
          0.2848773228195073,
          0.29914127258846523,
          0.16179882764222406,
          0.3217853137922573,
          0.36459586637945274,
          0.36459356401451637,
          0.3083484244309335,
          0.026105416458352303,
          0.2846819538144139,
          0.2846754219712408,
          0.1937294707729162,
          0.16179994433074352,
          -0.08434135212936124,
          0.16180279295313402,
          0.028877949391513356,
          0.13855650420286456,
          0.36479091090359606,
          0.02612814428633839,
          0.16179940731463185,
          0.027430662080234376,
          0.07372545573602311,
          0.026102250472097018,
          0.026107070512747754,
          0.2633958432739432,
          0.21560299972187313,
          0.29686296631879666,
          0.3215988807226587,
          0.2846751943278716
         ]
        },
        {
         "customdata": [
          [
           "Proof-of-BibleHash"
          ],
          [
           "SHA-256 + Hive"
          ],
          [
           "Proof-of-Authority"
          ],
          [
           "ECC 256K1"
          ]
         ],
         "hovertemplate": "<b>%{hovertext}</b><br><br>Class=%{marker.color}<br>PC 1=%{x}<br>PC 2=%{y}<br>PC 3=%{z}<br>Algorithm=%{customdata[0]}<extra></extra>",
         "hovertext": [
          "BiblePay",
          "LitecoinCash",
          "Poa Network",
          "Acute Angle Cloud"
         ],
         "legendgroup": "3",
         "marker": {
          "color": [
           3,
           3,
           3,
           3
          ],
          "coloraxis": "coloraxis",
          "symbol": "square"
         },
         "mode": "markers",
         "name": "3",
         "scene": "scene",
         "showlegend": true,
         "type": "scatter3d",
         "x": [
          -0.2958779145749895,
          -0.07169217534739744,
          -0.5976786075762018,
          -0.35522483504981867
         ],
         "y": [
          2.6183119678991487,
          4.44851836895012,
          2.1506884240667103,
          3.0234368430079743
         ],
         "z": [
          11.027310254269509,
          12.938922500266685,
          7.455129355300006,
          25.118007639822792
         ]
        },
        {
         "customdata": [
          [
           "TRC10"
          ]
         ],
         "hovertemplate": "<b>%{hovertext}</b><br><br>Class=%{marker.color}<br>PC 1=%{x}<br>PC 2=%{y}<br>PC 3=%{z}<br>Algorithm=%{customdata[0]}<extra></extra>",
         "hovertext": [
          "BitTorrent"
         ],
         "legendgroup": "2",
         "marker": {
          "color": [
           2
          ],
          "coloraxis": "coloraxis",
          "symbol": "x"
         },
         "mode": "markers",
         "name": "2",
         "scene": "scene",
         "showlegend": true,
         "type": "scatter3d",
         "x": [
          34.19805668923419
         ],
         "y": [
          2.029687340235556
         ],
         "z": [
          0.21860319878635517
         ]
        }
       ],
       "layout": {
        "coloraxis": {
         "colorbar": {
          "title": {
           "text": "Class"
          }
         },
         "colorscale": [
          [
           0,
           "#0d0887"
          ],
          [
           0.1111111111111111,
           "#46039f"
          ],
          [
           0.2222222222222222,
           "#7201a8"
          ],
          [
           0.3333333333333333,
           "#9c179e"
          ],
          [
           0.4444444444444444,
           "#bd3786"
          ],
          [
           0.5555555555555556,
           "#d8576b"
          ],
          [
           0.6666666666666666,
           "#ed7953"
          ],
          [
           0.7777777777777778,
           "#fb9f3a"
          ],
          [
           0.8888888888888888,
           "#fdca26"
          ],
          [
           1,
           "#f0f921"
          ]
         ]
        },
        "legend": {
         "title": {
          "text": "Class"
         },
         "tracegroupgap": 0,
         "x": 0,
         "y": 1
        },
        "margin": {
         "t": 60
        },
        "scene": {
         "domain": {
          "x": [
           0,
           1
          ],
          "y": [
           0,
           1
          ]
         },
         "xaxis": {
          "title": {
           "text": "PC 1"
          }
         },
         "yaxis": {
          "title": {
           "text": "PC 2"
          }
         },
         "zaxis": {
          "title": {
           "text": "PC 3"
          }
         }
        },
        "template": {
         "data": {
          "bar": [
           {
            "error_x": {
             "color": "#2a3f5f"
            },
            "error_y": {
             "color": "#2a3f5f"
            },
            "marker": {
             "line": {
              "color": "#E5ECF6",
              "width": 0.5
             },
             "pattern": {
              "fillmode": "overlay",
              "size": 10,
              "solidity": 0.2
             }
            },
            "type": "bar"
           }
          ],
          "barpolar": [
           {
            "marker": {
             "line": {
              "color": "#E5ECF6",
              "width": 0.5
             },
             "pattern": {
              "fillmode": "overlay",
              "size": 10,
              "solidity": 0.2
             }
            },
            "type": "barpolar"
           }
          ],
          "carpet": [
           {
            "aaxis": {
             "endlinecolor": "#2a3f5f",
             "gridcolor": "white",
             "linecolor": "white",
             "minorgridcolor": "white",
             "startlinecolor": "#2a3f5f"
            },
            "baxis": {
             "endlinecolor": "#2a3f5f",
             "gridcolor": "white",
             "linecolor": "white",
             "minorgridcolor": "white",
             "startlinecolor": "#2a3f5f"
            },
            "type": "carpet"
           }
          ],
          "choropleth": [
           {
            "colorbar": {
             "outlinewidth": 0,
             "ticks": ""
            },
            "type": "choropleth"
           }
          ],
          "contour": [
           {
            "colorbar": {
             "outlinewidth": 0,
             "ticks": ""
            },
            "colorscale": [
             [
              0,
              "#0d0887"
             ],
             [
              0.1111111111111111,
              "#46039f"
             ],
             [
              0.2222222222222222,
              "#7201a8"
             ],
             [
              0.3333333333333333,
              "#9c179e"
             ],
             [
              0.4444444444444444,
              "#bd3786"
             ],
             [
              0.5555555555555556,
              "#d8576b"
             ],
             [
              0.6666666666666666,
              "#ed7953"
             ],
             [
              0.7777777777777778,
              "#fb9f3a"
             ],
             [
              0.8888888888888888,
              "#fdca26"
             ],
             [
              1,
              "#f0f921"
             ]
            ],
            "type": "contour"
           }
          ],
          "contourcarpet": [
           {
            "colorbar": {
             "outlinewidth": 0,
             "ticks": ""
            },
            "type": "contourcarpet"
           }
          ],
          "heatmap": [
           {
            "colorbar": {
             "outlinewidth": 0,
             "ticks": ""
            },
            "colorscale": [
             [
              0,
              "#0d0887"
             ],
             [
              0.1111111111111111,
              "#46039f"
             ],
             [
              0.2222222222222222,
              "#7201a8"
             ],
             [
              0.3333333333333333,
              "#9c179e"
             ],
             [
              0.4444444444444444,
              "#bd3786"
             ],
             [
              0.5555555555555556,
              "#d8576b"
             ],
             [
              0.6666666666666666,
              "#ed7953"
             ],
             [
              0.7777777777777778,
              "#fb9f3a"
             ],
             [
              0.8888888888888888,
              "#fdca26"
             ],
             [
              1,
              "#f0f921"
             ]
            ],
            "type": "heatmap"
           }
          ],
          "heatmapgl": [
           {
            "colorbar": {
             "outlinewidth": 0,
             "ticks": ""
            },
            "colorscale": [
             [
              0,
              "#0d0887"
             ],
             [
              0.1111111111111111,
              "#46039f"
             ],
             [
              0.2222222222222222,
              "#7201a8"
             ],
             [
              0.3333333333333333,
              "#9c179e"
             ],
             [
              0.4444444444444444,
              "#bd3786"
             ],
             [
              0.5555555555555556,
              "#d8576b"
             ],
             [
              0.6666666666666666,
              "#ed7953"
             ],
             [
              0.7777777777777778,
              "#fb9f3a"
             ],
             [
              0.8888888888888888,
              "#fdca26"
             ],
             [
              1,
              "#f0f921"
             ]
            ],
            "type": "heatmapgl"
           }
          ],
          "histogram": [
           {
            "marker": {
             "pattern": {
              "fillmode": "overlay",
              "size": 10,
              "solidity": 0.2
             }
            },
            "type": "histogram"
           }
          ],
          "histogram2d": [
           {
            "colorbar": {
             "outlinewidth": 0,
             "ticks": ""
            },
            "colorscale": [
             [
              0,
              "#0d0887"
             ],
             [
              0.1111111111111111,
              "#46039f"
             ],
             [
              0.2222222222222222,
              "#7201a8"
             ],
             [
              0.3333333333333333,
              "#9c179e"
             ],
             [
              0.4444444444444444,
              "#bd3786"
             ],
             [
              0.5555555555555556,
              "#d8576b"
             ],
             [
              0.6666666666666666,
              "#ed7953"
             ],
             [
              0.7777777777777778,
              "#fb9f3a"
             ],
             [
              0.8888888888888888,
              "#fdca26"
             ],
             [
              1,
              "#f0f921"
             ]
            ],
            "type": "histogram2d"
           }
          ],
          "histogram2dcontour": [
           {
            "colorbar": {
             "outlinewidth": 0,
             "ticks": ""
            },
            "colorscale": [
             [
              0,
              "#0d0887"
             ],
             [
              0.1111111111111111,
              "#46039f"
             ],
             [
              0.2222222222222222,
              "#7201a8"
             ],
             [
              0.3333333333333333,
              "#9c179e"
             ],
             [
              0.4444444444444444,
              "#bd3786"
             ],
             [
              0.5555555555555556,
              "#d8576b"
             ],
             [
              0.6666666666666666,
              "#ed7953"
             ],
             [
              0.7777777777777778,
              "#fb9f3a"
             ],
             [
              0.8888888888888888,
              "#fdca26"
             ],
             [
              1,
              "#f0f921"
             ]
            ],
            "type": "histogram2dcontour"
           }
          ],
          "mesh3d": [
           {
            "colorbar": {
             "outlinewidth": 0,
             "ticks": ""
            },
            "type": "mesh3d"
           }
          ],
          "parcoords": [
           {
            "line": {
             "colorbar": {
              "outlinewidth": 0,
              "ticks": ""
             }
            },
            "type": "parcoords"
           }
          ],
          "pie": [
           {
            "automargin": true,
            "type": "pie"
           }
          ],
          "scatter": [
           {
            "fillpattern": {
             "fillmode": "overlay",
             "size": 10,
             "solidity": 0.2
            },
            "type": "scatter"
           }
          ],
          "scatter3d": [
           {
            "line": {
             "colorbar": {
              "outlinewidth": 0,
              "ticks": ""
             }
            },
            "marker": {
             "colorbar": {
              "outlinewidth": 0,
              "ticks": ""
             }
            },
            "type": "scatter3d"
           }
          ],
          "scattercarpet": [
           {
            "marker": {
             "colorbar": {
              "outlinewidth": 0,
              "ticks": ""
             }
            },
            "type": "scattercarpet"
           }
          ],
          "scattergeo": [
           {
            "marker": {
             "colorbar": {
              "outlinewidth": 0,
              "ticks": ""
             }
            },
            "type": "scattergeo"
           }
          ],
          "scattergl": [
           {
            "marker": {
             "colorbar": {
              "outlinewidth": 0,
              "ticks": ""
             }
            },
            "type": "scattergl"
           }
          ],
          "scattermapbox": [
           {
            "marker": {
             "colorbar": {
              "outlinewidth": 0,
              "ticks": ""
             }
            },
            "type": "scattermapbox"
           }
          ],
          "scatterpolar": [
           {
            "marker": {
             "colorbar": {
              "outlinewidth": 0,
              "ticks": ""
             }
            },
            "type": "scatterpolar"
           }
          ],
          "scatterpolargl": [
           {
            "marker": {
             "colorbar": {
              "outlinewidth": 0,
              "ticks": ""
             }
            },
            "type": "scatterpolargl"
           }
          ],
          "scatterternary": [
           {
            "marker": {
             "colorbar": {
              "outlinewidth": 0,
              "ticks": ""
             }
            },
            "type": "scatterternary"
           }
          ],
          "surface": [
           {
            "colorbar": {
             "outlinewidth": 0,
             "ticks": ""
            },
            "colorscale": [
             [
              0,
              "#0d0887"
             ],
             [
              0.1111111111111111,
              "#46039f"
             ],
             [
              0.2222222222222222,
              "#7201a8"
             ],
             [
              0.3333333333333333,
              "#9c179e"
             ],
             [
              0.4444444444444444,
              "#bd3786"
             ],
             [
              0.5555555555555556,
              "#d8576b"
             ],
             [
              0.6666666666666666,
              "#ed7953"
             ],
             [
              0.7777777777777778,
              "#fb9f3a"
             ],
             [
              0.8888888888888888,
              "#fdca26"
             ],
             [
              1,
              "#f0f921"
             ]
            ],
            "type": "surface"
           }
          ],
          "table": [
           {
            "cells": {
             "fill": {
              "color": "#EBF0F8"
             },
             "line": {
              "color": "white"
             }
            },
            "header": {
             "fill": {
              "color": "#C8D4E3"
             },
             "line": {
              "color": "white"
             }
            },
            "type": "table"
           }
          ]
         },
         "layout": {
          "annotationdefaults": {
           "arrowcolor": "#2a3f5f",
           "arrowhead": 0,
           "arrowwidth": 1
          },
          "autotypenumbers": "strict",
          "coloraxis": {
           "colorbar": {
            "outlinewidth": 0,
            "ticks": ""
           }
          },
          "colorscale": {
           "diverging": [
            [
             0,
             "#8e0152"
            ],
            [
             0.1,
             "#c51b7d"
            ],
            [
             0.2,
             "#de77ae"
            ],
            [
             0.3,
             "#f1b6da"
            ],
            [
             0.4,
             "#fde0ef"
            ],
            [
             0.5,
             "#f7f7f7"
            ],
            [
             0.6,
             "#e6f5d0"
            ],
            [
             0.7,
             "#b8e186"
            ],
            [
             0.8,
             "#7fbc41"
            ],
            [
             0.9,
             "#4d9221"
            ],
            [
             1,
             "#276419"
            ]
           ],
           "sequential": [
            [
             0,
             "#0d0887"
            ],
            [
             0.1111111111111111,
             "#46039f"
            ],
            [
             0.2222222222222222,
             "#7201a8"
            ],
            [
             0.3333333333333333,
             "#9c179e"
            ],
            [
             0.4444444444444444,
             "#bd3786"
            ],
            [
             0.5555555555555556,
             "#d8576b"
            ],
            [
             0.6666666666666666,
             "#ed7953"
            ],
            [
             0.7777777777777778,
             "#fb9f3a"
            ],
            [
             0.8888888888888888,
             "#fdca26"
            ],
            [
             1,
             "#f0f921"
            ]
           ],
           "sequentialminus": [
            [
             0,
             "#0d0887"
            ],
            [
             0.1111111111111111,
             "#46039f"
            ],
            [
             0.2222222222222222,
             "#7201a8"
            ],
            [
             0.3333333333333333,
             "#9c179e"
            ],
            [
             0.4444444444444444,
             "#bd3786"
            ],
            [
             0.5555555555555556,
             "#d8576b"
            ],
            [
             0.6666666666666666,
             "#ed7953"
            ],
            [
             0.7777777777777778,
             "#fb9f3a"
            ],
            [
             0.8888888888888888,
             "#fdca26"
            ],
            [
             1,
             "#f0f921"
            ]
           ]
          },
          "colorway": [
           "#636efa",
           "#EF553B",
           "#00cc96",
           "#ab63fa",
           "#FFA15A",
           "#19d3f3",
           "#FF6692",
           "#B6E880",
           "#FF97FF",
           "#FECB52"
          ],
          "font": {
           "color": "#2a3f5f"
          },
          "geo": {
           "bgcolor": "white",
           "lakecolor": "white",
           "landcolor": "#E5ECF6",
           "showlakes": true,
           "showland": true,
           "subunitcolor": "white"
          },
          "hoverlabel": {
           "align": "left"
          },
          "hovermode": "closest",
          "mapbox": {
           "style": "light"
          },
          "paper_bgcolor": "white",
          "plot_bgcolor": "#E5ECF6",
          "polar": {
           "angularaxis": {
            "gridcolor": "white",
            "linecolor": "white",
            "ticks": ""
           },
           "bgcolor": "#E5ECF6",
           "radialaxis": {
            "gridcolor": "white",
            "linecolor": "white",
            "ticks": ""
           }
          },
          "scene": {
           "xaxis": {
            "backgroundcolor": "#E5ECF6",
            "gridcolor": "white",
            "gridwidth": 2,
            "linecolor": "white",
            "showbackground": true,
            "ticks": "",
            "zerolinecolor": "white"
           },
           "yaxis": {
            "backgroundcolor": "#E5ECF6",
            "gridcolor": "white",
            "gridwidth": 2,
            "linecolor": "white",
            "showbackground": true,
            "ticks": "",
            "zerolinecolor": "white"
           },
           "zaxis": {
            "backgroundcolor": "#E5ECF6",
            "gridcolor": "white",
            "gridwidth": 2,
            "linecolor": "white",
            "showbackground": true,
            "ticks": "",
            "zerolinecolor": "white"
           }
          },
          "shapedefaults": {
           "line": {
            "color": "#2a3f5f"
           }
          },
          "ternary": {
           "aaxis": {
            "gridcolor": "white",
            "linecolor": "white",
            "ticks": ""
           },
           "baxis": {
            "gridcolor": "white",
            "linecolor": "white",
            "ticks": ""
           },
           "bgcolor": "#E5ECF6",
           "caxis": {
            "gridcolor": "white",
            "linecolor": "white",
            "ticks": ""
           }
          },
          "title": {
           "x": 0.05
          },
          "xaxis": {
           "automargin": true,
           "gridcolor": "white",
           "linecolor": "white",
           "ticks": "",
           "title": {
            "standoff": 15
           },
           "zerolinecolor": "white",
           "zerolinewidth": 2
          },
          "yaxis": {
           "automargin": true,
           "gridcolor": "white",
           "linecolor": "white",
           "ticks": "",
           "title": {
            "standoff": 15
           },
           "zerolinecolor": "white",
           "zerolinewidth": 2
          }
         }
        },
        "width": 800
       }
      }
     },
     "metadata": {},
     "output_type": "display_data"
    }
   ],
   "source": [
    "# Creating a 3D-Scatter with the PCA data and the clusters\n",
    "\n",
    "fig = px.scatter_3d(\n",
    "    cluster_df,\n",
    "    x=\"PC 1\", \n",
    "    y=\"PC 2\", \n",
    "    z=\"PC 3\", \n",
    "    hover_name='CoinName',\n",
    "    hover_data=['Algorithm'],\n",
    "    color=\"Class\",\n",
    "    symbol='Class',\n",
    "    width=800,\n",
    "\n",
    "    )\n",
    "fig.update_layout(legend=dict(x=0,y=1))\n",
    "fig.show()"
   ]
  },
  {
   "cell_type": "code",
   "execution_count": 172,
   "metadata": {},
   "outputs": [
    {
     "name": "stdout",
     "output_type": "stream",
     "text": [
      "Launching server at http://localhost:59950\n"
     ]
    }
   ],
   "source": [
    "# Create a table with tradable cryptocurrencies.\n",
    "import hvplot.pandas\n",
    "viewer = cluster_df.hvplot.table(columns=['CoinName','Algorithm', 'ProofType','TotalCoinSupply', 'TotalCoinsMined','Class'],width=400)\n",
    "hvplot.show(viewer)"
   ]
  },
  {
   "cell_type": "code",
   "execution_count": 173,
   "metadata": {},
   "outputs": [
    {
     "name": "stdout",
     "output_type": "stream",
     "text": [
      "There are 532 tradeable cryptocurrencies\n"
     ]
    }
   ],
   "source": [
    "# Print the total number of tradable cryptocurrencies.\n",
    "print(f\"There are {cluster_df['CoinName'].count()} tradeable cryptocurrencies\")"
   ]
  },
  {
   "cell_type": "code",
   "execution_count": 174,
   "metadata": {},
   "outputs": [
    {
     "data": {
      "text/html": [
       "<div>\n",
       "<style scoped>\n",
       "    .dataframe tbody tr th:only-of-type {\n",
       "        vertical-align: middle;\n",
       "    }\n",
       "\n",
       "    .dataframe tbody tr th {\n",
       "        vertical-align: top;\n",
       "    }\n",
       "\n",
       "    .dataframe thead th {\n",
       "        text-align: right;\n",
       "    }\n",
       "</style>\n",
       "<table border=\"1\" class=\"dataframe\">\n",
       "  <thead>\n",
       "    <tr style=\"text-align: right;\">\n",
       "      <th></th>\n",
       "      <th>Algorithm</th>\n",
       "      <th>ProofType</th>\n",
       "      <th>TotalCoinsMined</th>\n",
       "      <th>TotalCoinSupply</th>\n",
       "      <th>PC 1</th>\n",
       "      <th>PC 2</th>\n",
       "      <th>PC 3</th>\n",
       "      <th>CoinName</th>\n",
       "      <th>Class</th>\n",
       "    </tr>\n",
       "  </thead>\n",
       "  <tbody>\n",
       "    <tr>\n",
       "      <th>42</th>\n",
       "      <td>Scrypt</td>\n",
       "      <td>PoW/PoS</td>\n",
       "      <td>0.000000e+00</td>\n",
       "      <td>4.200000e-11</td>\n",
       "      <td>-0.309791</td>\n",
       "      <td>1.092447</td>\n",
       "      <td>-0.428064</td>\n",
       "      <td>42 Coin</td>\n",
       "      <td>1</td>\n",
       "    </tr>\n",
       "    <tr>\n",
       "      <th>404</th>\n",
       "      <td>Scrypt</td>\n",
       "      <td>PoW/PoS</td>\n",
       "      <td>1.065855e-03</td>\n",
       "      <td>5.320000e-04</td>\n",
       "      <td>-0.293015</td>\n",
       "      <td>1.092827</td>\n",
       "      <td>-0.428052</td>\n",
       "      <td>404Coin</td>\n",
       "      <td>1</td>\n",
       "    </tr>\n",
       "    <tr>\n",
       "      <th>1337</th>\n",
       "      <td>X13</td>\n",
       "      <td>PoW/PoS</td>\n",
       "      <td>2.957551e-02</td>\n",
       "      <td>3.141593e-01</td>\n",
       "      <td>2.293608</td>\n",
       "      <td>1.703303</td>\n",
       "      <td>-0.529703</td>\n",
       "      <td>EliteCoin</td>\n",
       "      <td>1</td>\n",
       "    </tr>\n",
       "    <tr>\n",
       "      <th>BTC</th>\n",
       "      <td>SHA-256</td>\n",
       "      <td>PoW</td>\n",
       "      <td>1.810842e-05</td>\n",
       "      <td>2.100000e-05</td>\n",
       "      <td>-0.165301</td>\n",
       "      <td>-1.341114</td>\n",
       "      <td>0.161799</td>\n",
       "      <td>Bitcoin</td>\n",
       "      <td>0</td>\n",
       "    </tr>\n",
       "    <tr>\n",
       "      <th>ETH</th>\n",
       "      <td>Ethash</td>\n",
       "      <td>PoW</td>\n",
       "      <td>1.087731e-04</td>\n",
       "      <td>0.000000e+00</td>\n",
       "      <td>-0.140103</td>\n",
       "      <td>-2.029137</td>\n",
       "      <td>0.296862</td>\n",
       "      <td>Ethereum</td>\n",
       "      <td>0</td>\n",
       "    </tr>\n",
       "    <tr>\n",
       "      <th>...</th>\n",
       "      <td>...</td>\n",
       "      <td>...</td>\n",
       "      <td>...</td>\n",
       "      <td>...</td>\n",
       "      <td>...</td>\n",
       "      <td>...</td>\n",
       "      <td>...</td>\n",
       "      <td>...</td>\n",
       "      <td>...</td>\n",
       "    </tr>\n",
       "    <tr>\n",
       "      <th>ZEPH</th>\n",
       "      <td>SHA-256</td>\n",
       "      <td>DPoS</td>\n",
       "      <td>2.020225e-03</td>\n",
       "      <td>2.000000e-03</td>\n",
       "      <td>2.373630</td>\n",
       "      <td>0.688873</td>\n",
       "      <td>0.079640</td>\n",
       "      <td>ZEPHYR</td>\n",
       "      <td>1</td>\n",
       "    </tr>\n",
       "    <tr>\n",
       "      <th>GAP</th>\n",
       "      <td>Scrypt</td>\n",
       "      <td>PoW/PoS</td>\n",
       "      <td>1.508199e-05</td>\n",
       "      <td>2.500000e-04</td>\n",
       "      <td>-0.307825</td>\n",
       "      <td>1.092352</td>\n",
       "      <td>-0.428057</td>\n",
       "      <td>Gapcoin</td>\n",
       "      <td>1</td>\n",
       "    </tr>\n",
       "    <tr>\n",
       "      <th>BDX</th>\n",
       "      <td>CryptoNight</td>\n",
       "      <td>PoW</td>\n",
       "      <td>9.901351e-04</td>\n",
       "      <td>1.400223e-03</td>\n",
       "      <td>0.300707</td>\n",
       "      <td>-2.363656</td>\n",
       "      <td>0.321599</td>\n",
       "      <td>Beldex</td>\n",
       "      <td>0</td>\n",
       "    </tr>\n",
       "    <tr>\n",
       "      <th>ZEN</th>\n",
       "      <td>Equihash</td>\n",
       "      <td>PoW</td>\n",
       "      <td>7.370282e-06</td>\n",
       "      <td>2.100000e-05</td>\n",
       "      <td>-0.112227</td>\n",
       "      <td>-2.047353</td>\n",
       "      <td>0.284675</td>\n",
       "      <td>Horizen</td>\n",
       "      <td>0</td>\n",
       "    </tr>\n",
       "    <tr>\n",
       "      <th>XBC</th>\n",
       "      <td>Scrypt</td>\n",
       "      <td>PoS</td>\n",
       "      <td>1.295823e-07</td>\n",
       "      <td>1.000000e-06</td>\n",
       "      <td>-0.277448</td>\n",
       "      <td>0.835091</td>\n",
       "      <td>-0.165154</td>\n",
       "      <td>BitcoinPlus</td>\n",
       "      <td>1</td>\n",
       "    </tr>\n",
       "  </tbody>\n",
       "</table>\n",
       "<p>532 rows × 9 columns</p>\n",
       "</div>"
      ],
      "text/plain": [
       "        Algorithm ProofType  TotalCoinsMined  TotalCoinSupply      PC 1  \\\n",
       "42         Scrypt   PoW/PoS     0.000000e+00     4.200000e-11 -0.309791   \n",
       "404        Scrypt   PoW/PoS     1.065855e-03     5.320000e-04 -0.293015   \n",
       "1337          X13   PoW/PoS     2.957551e-02     3.141593e-01  2.293608   \n",
       "BTC       SHA-256       PoW     1.810842e-05     2.100000e-05 -0.165301   \n",
       "ETH        Ethash       PoW     1.087731e-04     0.000000e+00 -0.140103   \n",
       "...           ...       ...              ...              ...       ...   \n",
       "ZEPH      SHA-256      DPoS     2.020225e-03     2.000000e-03  2.373630   \n",
       "GAP        Scrypt   PoW/PoS     1.508199e-05     2.500000e-04 -0.307825   \n",
       "BDX   CryptoNight       PoW     9.901351e-04     1.400223e-03  0.300707   \n",
       "ZEN      Equihash       PoW     7.370282e-06     2.100000e-05 -0.112227   \n",
       "XBC        Scrypt       PoS     1.295823e-07     1.000000e-06 -0.277448   \n",
       "\n",
       "          PC 2      PC 3     CoinName  Class  \n",
       "42    1.092447 -0.428064      42 Coin      1  \n",
       "404   1.092827 -0.428052      404Coin      1  \n",
       "1337  1.703303 -0.529703    EliteCoin      1  \n",
       "BTC  -1.341114  0.161799      Bitcoin      0  \n",
       "ETH  -2.029137  0.296862     Ethereum      0  \n",
       "...        ...       ...          ...    ...  \n",
       "ZEPH  0.688873  0.079640       ZEPHYR      1  \n",
       "GAP   1.092352 -0.428057      Gapcoin      1  \n",
       "BDX  -2.363656  0.321599       Beldex      0  \n",
       "ZEN  -2.047353  0.284675      Horizen      0  \n",
       "XBC   0.835091 -0.165154  BitcoinPlus      1  \n",
       "\n",
       "[532 rows x 9 columns]"
      ]
     },
     "execution_count": 174,
     "metadata": {},
     "output_type": "execute_result"
    }
   ],
   "source": [
    "# Scaling data to create the scatter plot with tradable cryptocurrencies.\n",
    "\n",
    "cluster_df[['TotalCoinSupply','TotalCoinsMined']] = MinMaxScaler().fit_transform(cluster_df[['TotalCoinSupply','TotalCoinsMined']])\n",
    "cluster_df"
   ]
  },
  {
   "cell_type": "code",
   "execution_count": 175,
   "metadata": {},
   "outputs": [
    {
     "data": {
      "text/html": [
       "<div>\n",
       "<style scoped>\n",
       "    .dataframe tbody tr th:only-of-type {\n",
       "        vertical-align: middle;\n",
       "    }\n",
       "\n",
       "    .dataframe tbody tr th {\n",
       "        vertical-align: top;\n",
       "    }\n",
       "\n",
       "    .dataframe thead th {\n",
       "        text-align: right;\n",
       "    }\n",
       "</style>\n",
       "<table border=\"1\" class=\"dataframe\">\n",
       "  <thead>\n",
       "    <tr style=\"text-align: right;\">\n",
       "      <th></th>\n",
       "      <th>TotalCoinSupply</th>\n",
       "      <th>TotalCoinsMined</th>\n",
       "      <th>CoinName</th>\n",
       "      <th>Class</th>\n",
       "    </tr>\n",
       "  </thead>\n",
       "  <tbody>\n",
       "    <tr>\n",
       "      <th>42</th>\n",
       "      <td>4.200000e-11</td>\n",
       "      <td>0.000000</td>\n",
       "      <td>42 Coin</td>\n",
       "      <td>1</td>\n",
       "    </tr>\n",
       "    <tr>\n",
       "      <th>404</th>\n",
       "      <td>5.320000e-04</td>\n",
       "      <td>0.001066</td>\n",
       "      <td>404Coin</td>\n",
       "      <td>1</td>\n",
       "    </tr>\n",
       "    <tr>\n",
       "      <th>1337</th>\n",
       "      <td>3.141593e-01</td>\n",
       "      <td>0.029576</td>\n",
       "      <td>EliteCoin</td>\n",
       "      <td>1</td>\n",
       "    </tr>\n",
       "    <tr>\n",
       "      <th>BTC</th>\n",
       "      <td>2.100000e-05</td>\n",
       "      <td>0.000018</td>\n",
       "      <td>Bitcoin</td>\n",
       "      <td>0</td>\n",
       "    </tr>\n",
       "    <tr>\n",
       "      <th>ETH</th>\n",
       "      <td>0.000000e+00</td>\n",
       "      <td>0.000109</td>\n",
       "      <td>Ethereum</td>\n",
       "      <td>0</td>\n",
       "    </tr>\n",
       "    <tr>\n",
       "      <th>LTC</th>\n",
       "      <td>8.400000e-05</td>\n",
       "      <td>0.000064</td>\n",
       "      <td>Litecoin</td>\n",
       "      <td>0</td>\n",
       "    </tr>\n",
       "    <tr>\n",
       "      <th>DASH</th>\n",
       "      <td>2.200000e-05</td>\n",
       "      <td>0.000009</td>\n",
       "      <td>Dash</td>\n",
       "      <td>1</td>\n",
       "    </tr>\n",
       "    <tr>\n",
       "      <th>XMR</th>\n",
       "      <td>0.000000e+00</td>\n",
       "      <td>0.000017</td>\n",
       "      <td>Monero</td>\n",
       "      <td>0</td>\n",
       "    </tr>\n",
       "    <tr>\n",
       "      <th>ETC</th>\n",
       "      <td>2.100000e-04</td>\n",
       "      <td>0.000115</td>\n",
       "      <td>Ethereum Classic</td>\n",
       "      <td>0</td>\n",
       "    </tr>\n",
       "    <tr>\n",
       "      <th>ZEC</th>\n",
       "      <td>2.100000e-05</td>\n",
       "      <td>0.000007</td>\n",
       "      <td>ZCash</td>\n",
       "      <td>0</td>\n",
       "    </tr>\n",
       "  </tbody>\n",
       "</table>\n",
       "</div>"
      ],
      "text/plain": [
       "      TotalCoinSupply  TotalCoinsMined          CoinName  Class\n",
       "42       4.200000e-11         0.000000           42 Coin      1\n",
       "404      5.320000e-04         0.001066           404Coin      1\n",
       "1337     3.141593e-01         0.029576         EliteCoin      1\n",
       "BTC      2.100000e-05         0.000018           Bitcoin      0\n",
       "ETH      0.000000e+00         0.000109          Ethereum      0\n",
       "LTC      8.400000e-05         0.000064          Litecoin      0\n",
       "DASH     2.200000e-05         0.000009              Dash      1\n",
       "XMR      0.000000e+00         0.000017            Monero      0\n",
       "ETC      2.100000e-04         0.000115  Ethereum Classic      0\n",
       "ZEC      2.100000e-05         0.000007             ZCash      0"
      ]
     },
     "execution_count": 175,
     "metadata": {},
     "output_type": "execute_result"
    }
   ],
   "source": [
    "# Create a new DataFrame that has the scaled data with the clustered_df DataFrame index.\n",
    "\n",
    "totals_df = cluster_df[['TotalCoinSupply','TotalCoinsMined']]\n",
    "\n",
    "# Add the \"CoinName\" column from the clustered_df DataFrame to the new DataFrame.\n",
    "\n",
    "plot_df = totals_df.join(crypto_name_df)\n",
    "\n",
    "# Add the \"Class\" column from the clustered_df DataFrame to the new DataFrame. \n",
    "\n",
    "plot_df['Class'] = cluster_df['Class']\n",
    "\n",
    "plot_df.head(10)"
   ]
  },
  {
   "cell_type": "code",
   "execution_count": 176,
   "metadata": {},
   "outputs": [
    {
     "name": "stdout",
     "output_type": "stream",
     "text": [
      "Launching server at http://localhost:59979\n"
     ]
    }
   ],
   "source": [
    "# Create a hvplot.scatter plot using x=\"TotalCoinsMined\" and y=\"TotalCoinSupply\".\n",
    "\n",
    "hvplot.show(cluster_df.hvplot.scatter(x='TotalCoinsMined', y='TotalCoinSupply', by='Class', size=10, hover_cols=['CoinName']))"
   ]
  }
 ],
 "metadata": {
  "file_extension": ".py",
  "kernelspec": {
   "display_name": "mlenv",
   "language": "python",
   "name": "python3"
  },
  "language_info": {
   "codemirror_mode": {
    "name": "ipython",
    "version": 3
   },
   "file_extension": ".py",
   "mimetype": "text/x-python",
   "name": "python",
   "nbconvert_exporter": "python",
   "pygments_lexer": "ipython3",
   "version": "3.7.13"
  },
  "latex_envs": {
   "LaTeX_envs_menu_present": true,
   "autoclose": false,
   "autocomplete": true,
   "bibliofile": "biblio.bib",
   "cite_by": "apalike",
   "current_citInitial": 1,
   "eqLabelWithNumbers": true,
   "eqNumInitial": 1,
   "hotkeys": {
    "equation": "Ctrl-E",
    "itemize": "Ctrl-I"
   },
   "labels_anchors": false,
   "latex_user_defs": false,
   "report_style_numbering": false,
   "user_envs_cfg": false
  },
  "mimetype": "text/x-python",
  "name": "python",
  "npconvert_exporter": "python",
  "pygments_lexer": "ipython3",
  "version": 3,
  "vscode": {
   "interpreter": {
    "hash": "8ccc1aa3ed519f7e799688496942c772fd7831c36144e9e99ceed2ce5e1092cf"
   }
  }
 },
 "nbformat": 4,
 "nbformat_minor": 2
}
